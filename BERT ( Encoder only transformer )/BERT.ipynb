{
 "cells": [
  {
   "cell_type": "markdown",
   "metadata": {},
   "source": [
    "# **Import , and Load Dataset**"
   ]
  },
  {
   "cell_type": "code",
   "execution_count": 1,
   "metadata": {},
   "outputs": [
    {
     "name": "stderr",
     "output_type": "stream",
     "text": [
      "d:\\programming_Vscode\\python projects\\dlib_venv\\Lib\\site-packages\\tqdm\\auto.py:21: TqdmWarning: IProgress not found. Please update jupyter and ipywidgets. See https://ipywidgets.readthedocs.io/en/stable/user_install.html\n",
      "  from .autonotebook import tqdm as notebook_tqdm\n"
     ]
    }
   ],
   "source": [
    "import numpy as np\n",
    "import pandas as pd\n",
    "import matplotlib.pyplot as plt\n",
    "import os\n",
    "import torch\n",
    "import torch.nn as nn\n",
    "import torch.optim as optim \n",
    "import torch.functional as F\n",
    "from torch.utils.data import Dataset, DataLoader\n",
    "from nltk import word_tokenize , sent_tokenize , WordNetLemmatizer\n",
    "from nltk.corpus import stopwords\n",
    "import string\n",
    "from sklearn.model_selection import train_test_split\n",
    "from sklearn.metrics import f1_score ,  confusion_matrix\n",
    "from transformers import BertModel, BertTokenizer"
   ]
  },
  {
   "cell_type": "code",
   "execution_count": 2,
   "metadata": {},
   "outputs": [
    {
     "name": "stdout",
     "output_type": "stream",
     "text": [
      "['BJT.txt', 'IMBD-Dataset-', 'IMDB Dataset.csv', 'model_weights_LSTM.pth', 'model_weights_RNN.pth', 'Mosfet.txt', 'Solid state devices.txt', 'Transistor as amplifier.txt']\n"
     ]
    }
   ],
   "source": [
    "os.chdir(\"D:/NLP Text data\")\n",
    "print(os.listdir())"
   ]
  },
  {
   "cell_type": "code",
   "execution_count": 3,
   "metadata": {},
   "outputs": [],
   "source": [
    "data = pd.read_csv('IMDB Dataset.csv')"
   ]
  },
  {
   "cell_type": "markdown",
   "metadata": {},
   "source": [
    "# **preprocessing text**"
   ]
  },
  {
   "cell_type": "code",
   "execution_count": 4,
   "metadata": {},
   "outputs": [
    {
     "name": "stdout",
     "output_type": "stream",
     "text": [
      "(50000, 3)\n"
     ]
    }
   ],
   "source": [
    "def preprocessing(text) :\n",
    "    punc = set(string.punctuation)\n",
    "    stop_words = set(stopwords.words(\"english\"))\n",
    "    lemmatizer = WordNetLemmatizer()\n",
    "    big_tokens = sent_tokenize(str(text))\n",
    "    preprocessed = []\n",
    "    for i in big_tokens :\n",
    "        small_tokens = word_tokenize(i)\n",
    "        filterd = [ lemmatizer.lemmatize(i.lower()) for i in small_tokens if ( i not in stop_words) and ( i not in punc) and (i.isdigit() == 0)]\n",
    "        preprocessed.append(\" \".join(filterd))\n",
    "    return \" \".join(preprocessed)\n",
    "data[\"review_processed\"] = data['review'].apply(preprocessing)\n",
    "print(data.shape)"
   ]
  },
  {
   "cell_type": "markdown",
   "metadata": {},
   "source": [
    "# **Convert Words to Numerical Sequences**"
   ]
  },
  {
   "cell_type": "code",
   "execution_count": 5,
   "metadata": {},
   "outputs": [
    {
     "data": {
      "text/plain": [
       "0        None\n",
       "1        None\n",
       "2        None\n",
       "3        None\n",
       "4        None\n",
       "         ... \n",
       "49995    None\n",
       "49996    None\n",
       "49997    None\n",
       "49998    None\n",
       "49999    None\n",
       "Name: review_processed, Length: 50000, dtype: object"
      ]
     },
     "execution_count": 5,
     "metadata": {},
     "output_type": "execute_result"
    }
   ],
   "source": [
    "all_text = []\n",
    "def alltext(text) :\n",
    "    all_text.append(word_tokenize(text))\n",
    "data['review_processed'].apply(alltext)"
   ]
  },
  {
   "cell_type": "code",
   "execution_count": 6,
   "metadata": {},
   "outputs": [
    {
     "name": "stdout",
     "output_type": "stream",
     "text": [
      "number of words in list datastructure : 7112983\n",
      "number of words in Set datastructure  : 143309\n",
      "this mean the list is larger than set with : 49 scaler\n"
     ]
    }
   ],
   "source": [
    "all_text_words = []\n",
    "for i in range(1,50001):\n",
    "    all_text_words += all_text[i-1]\n",
    "print(\"number of words in list datastructure :\",len(all_text_words))\n",
    "print(\"number of words in Set datastructure  :\",len(set(all_text_words)))\n",
    "print(\"this mean the list is larger than set with :\",int(len(all_text_words)/len(set(all_text_words))),\"scaler\")"
   ]
  },
  {
   "cell_type": "code",
   "execution_count": 8,
   "metadata": {},
   "outputs": [
    {
     "name": "stdout",
     "output_type": "stream",
     "text": [
      "143309\n",
      "143309\n"
     ]
    }
   ],
   "source": [
    "all_text_words = set(all_text_words)\n",
    "numbers = [ i for i in range(len(all_text_words))]\n",
    "word_to_idx = dict()\n",
    "idx_to_word = dict()\n",
    "for i , j in zip(all_text_words,numbers) :\n",
    "    word_to_idx.update({i:j})\n",
    "    idx_to_word.update({j:i})\n",
    "print(len(word_to_idx))\n",
    "print(len(idx_to_word))"
   ]
  },
  {
   "cell_type": "code",
   "execution_count": 9,
   "metadata": {},
   "outputs": [
    {
     "name": "stdout",
     "output_type": "stream",
     "text": [
      "                                    review_processed  \\\n",
      "0  one reviewer mentioned watching oz episode 'll...   \n",
      "1  a wonderful little production br br the filmin...   \n",
      "2  i thought wonderful way spend time hot summer ...   \n",
      "3  basically 's family little boy jake think 's z...   \n",
      "\n",
      "                                            sequence  \n",
      "0  [105856, 29904, 97195, 120254, 66371, 36133, 8...  \n",
      "1  [105336, 3709, 130976, 48297, 121989, 121989, ...  \n",
      "2  [132279, 7415, 3709, 47041, 67143, 81373, 1161...  \n",
      "3  [34444, 106484, 136701, 130976, 123484, 44112,...  \n"
     ]
    }
   ],
   "source": [
    "def add_seqence(text) :\n",
    "    tokenss = word_tokenize(text)\n",
    "    converted = [ word_to_idx.get(i) for i in tokenss]\n",
    "    return converted\n",
    "data[\"sequence\"] = data[\"review_processed\"].apply(add_seqence)\n",
    "print(data.iloc[:4,2:])"
   ]
  },
  {
   "cell_type": "markdown",
   "metadata": {},
   "source": [
    "# **Select fixed sequence lenght to train**"
   ]
  },
  {
   "cell_type": "code",
   "execution_count": 10,
   "metadata": {},
   "outputs": [
    {
     "name": "stdout",
     "output_type": "stream",
     "text": [
      "50000\n",
      "50000\n"
     ]
    }
   ],
   "source": [
    "def pad_sequence(seq, seq_length=142):\n",
    "    if len(seq) > seq_length:\n",
    "        return seq[:seq_length]\n",
    "    else:\n",
    "        return seq + [0] * (seq_length - len(seq))\n",
    "data[\"padded_sequence\"] = data[\"sequence\"].apply(pad_sequence)\n",
    "x = np.array(data['padded_sequence'].tolist())\n",
    "y = np.array(data['sentiment'].map({\"positive\": 1, \"negative\": 0}))\n",
    "print(len(x))\n",
    "print(len(y))"
   ]
  },
  {
   "cell_type": "markdown",
   "metadata": {},
   "source": [
    "# **Train model phase**"
   ]
  },
  {
   "cell_type": "code",
   "execution_count": 11,
   "metadata": {},
   "outputs": [
    {
     "name": "stdout",
     "output_type": "stream",
     "text": [
      "Training set size: 40000\n",
      "Test set size: 10000\n"
     ]
    }
   ],
   "source": [
    "class IMDBDataset(Dataset):\n",
    "    def __init__(self, X, y):\n",
    "        self.X = torch.tensor(X, dtype=torch.int64)\n",
    "        self.y = torch.tensor(y, dtype=torch.int64)\n",
    "\n",
    "    def __len__(self):\n",
    "        return len(self.X)\n",
    "\n",
    "    def __getitem__(self, index):\n",
    "        return self.X[index], self.y[index]\n",
    "X_train, X_test, y_train, y_test = train_test_split(x, y, test_size=0.2, random_state=42)\n",
    "train_dataset = IMDBDataset(X_train, y_train)\n",
    "test_dataset = IMDBDataset(X_test, y_test)\n",
    "train_loader = DataLoader(train_dataset, batch_size=40, shuffle=True)\n",
    "test_loader = DataLoader(test_dataset, batch_size=40, shuffle=False)\n",
    "\n",
    "print(\"Training set size:\", len(train_dataset))\n",
    "print(\"Test set size:\", len(test_dataset))"
   ]
  },
  {
   "cell_type": "code",
   "execution_count": 16,
   "metadata": {},
   "outputs": [],
   "source": [
    "class SentimentBERT(nn.Module):\n",
    "    def __init__(self, vocab_size=None, embed_size=350, hidden_size=128, output_size=1, num_layers=2):\n",
    "        super(SentimentBERT, self).__init__()\n",
    "        self.bert = BertModel.from_pretrained(\"bert-base-uncased\")\n",
    "        self.fc = nn.Linear(self.bert.config.hidden_size, output_size)\n",
    "\n",
    "    def forward(self, input_ids, attention_mask):\n",
    "        bert_output = self.bert(input_ids=input_ids, attention_mask=attention_mask)\n",
    "        cls_output = bert_output.last_hidden_state[:, 0, :]\n",
    "        out = self.fc(cls_output)\n",
    "        return out\n",
    "tokenizer = BertTokenizer.from_pretrained(\"bert-base-uncased\")\n",
    "\n",
    "vocab_size = 143309 + 1\n",
    "embed_size = 350\n",
    "hidden_size = 128\n",
    "output_size = 1\n",
    "num_layers = 2\n",
    "num_epochs = 60\n",
    "learning_rate = 0.0001\n",
    "model = SentimentBERT(vocab_size, embed_size, hidden_size, output_size, num_layers)\n",
    "criterion = nn.BCEWithLogitsLoss() \n",
    "optimizer = optim.Adam(model.parameters(), lr=learning_rate)"
   ]
  },
  {
   "cell_type": "code",
   "execution_count": 13,
   "metadata": {},
   "outputs": [
    {
     "name": "stderr",
     "output_type": "stream",
     "text": [
      "Epoch 1/60:   0%|          | 2/1000 [06:00<49:58:38, 180.28s/it, acc=0.45, f1=0.621, loss=1.03] \n"
     ]
    },
    {
     "ename": "KeyboardInterrupt",
     "evalue": "",
     "output_type": "error",
     "traceback": [
      "\u001b[1;31m---------------------------------------------------------------------------\u001b[0m",
      "\u001b[1;31mKeyboardInterrupt\u001b[0m                         Traceback (most recent call last)",
      "Cell \u001b[1;32mIn[13], line 19\u001b[0m\n\u001b[0;32m     17\u001b[0m loss \u001b[38;5;241m=\u001b[39m criterion(outputs, targets)\n\u001b[0;32m     18\u001b[0m optimizer\u001b[38;5;241m.\u001b[39mzero_grad()\n\u001b[1;32m---> 19\u001b[0m \u001b[43mloss\u001b[49m\u001b[38;5;241;43m.\u001b[39;49m\u001b[43mbackward\u001b[49m\u001b[43m(\u001b[49m\u001b[43m)\u001b[49m\n\u001b[0;32m     20\u001b[0m optimizer\u001b[38;5;241m.\u001b[39mstep()\n\u001b[0;32m     21\u001b[0m probs \u001b[38;5;241m=\u001b[39m torch\u001b[38;5;241m.\u001b[39msigmoid(outputs)\n",
      "File \u001b[1;32md:\\programming_Vscode\\python projects\\dlib_venv\\Lib\\site-packages\\torch\\_tensor.py:581\u001b[0m, in \u001b[0;36mTensor.backward\u001b[1;34m(self, gradient, retain_graph, create_graph, inputs)\u001b[0m\n\u001b[0;32m    571\u001b[0m \u001b[38;5;28;01mif\u001b[39;00m has_torch_function_unary(\u001b[38;5;28mself\u001b[39m):\n\u001b[0;32m    572\u001b[0m     \u001b[38;5;28;01mreturn\u001b[39;00m handle_torch_function(\n\u001b[0;32m    573\u001b[0m         Tensor\u001b[38;5;241m.\u001b[39mbackward,\n\u001b[0;32m    574\u001b[0m         (\u001b[38;5;28mself\u001b[39m,),\n\u001b[1;32m   (...)\u001b[0m\n\u001b[0;32m    579\u001b[0m         inputs\u001b[38;5;241m=\u001b[39minputs,\n\u001b[0;32m    580\u001b[0m     )\n\u001b[1;32m--> 581\u001b[0m \u001b[43mtorch\u001b[49m\u001b[38;5;241;43m.\u001b[39;49m\u001b[43mautograd\u001b[49m\u001b[38;5;241;43m.\u001b[39;49m\u001b[43mbackward\u001b[49m\u001b[43m(\u001b[49m\n\u001b[0;32m    582\u001b[0m \u001b[43m    \u001b[49m\u001b[38;5;28;43mself\u001b[39;49m\u001b[43m,\u001b[49m\u001b[43m \u001b[49m\u001b[43mgradient\u001b[49m\u001b[43m,\u001b[49m\u001b[43m \u001b[49m\u001b[43mretain_graph\u001b[49m\u001b[43m,\u001b[49m\u001b[43m \u001b[49m\u001b[43mcreate_graph\u001b[49m\u001b[43m,\u001b[49m\u001b[43m \u001b[49m\u001b[43minputs\u001b[49m\u001b[38;5;241;43m=\u001b[39;49m\u001b[43minputs\u001b[49m\n\u001b[0;32m    583\u001b[0m \u001b[43m\u001b[49m\u001b[43m)\u001b[49m\n",
      "File \u001b[1;32md:\\programming_Vscode\\python projects\\dlib_venv\\Lib\\site-packages\\torch\\autograd\\__init__.py:347\u001b[0m, in \u001b[0;36mbackward\u001b[1;34m(tensors, grad_tensors, retain_graph, create_graph, grad_variables, inputs)\u001b[0m\n\u001b[0;32m    342\u001b[0m     retain_graph \u001b[38;5;241m=\u001b[39m create_graph\n\u001b[0;32m    344\u001b[0m \u001b[38;5;66;03m# The reason we repeat the same comment below is that\u001b[39;00m\n\u001b[0;32m    345\u001b[0m \u001b[38;5;66;03m# some Python versions print out the first line of a multi-line function\u001b[39;00m\n\u001b[0;32m    346\u001b[0m \u001b[38;5;66;03m# calls in the traceback and some print out the last line\u001b[39;00m\n\u001b[1;32m--> 347\u001b[0m \u001b[43m_engine_run_backward\u001b[49m\u001b[43m(\u001b[49m\n\u001b[0;32m    348\u001b[0m \u001b[43m    \u001b[49m\u001b[43mtensors\u001b[49m\u001b[43m,\u001b[49m\n\u001b[0;32m    349\u001b[0m \u001b[43m    \u001b[49m\u001b[43mgrad_tensors_\u001b[49m\u001b[43m,\u001b[49m\n\u001b[0;32m    350\u001b[0m \u001b[43m    \u001b[49m\u001b[43mretain_graph\u001b[49m\u001b[43m,\u001b[49m\n\u001b[0;32m    351\u001b[0m \u001b[43m    \u001b[49m\u001b[43mcreate_graph\u001b[49m\u001b[43m,\u001b[49m\n\u001b[0;32m    352\u001b[0m \u001b[43m    \u001b[49m\u001b[43minputs\u001b[49m\u001b[43m,\u001b[49m\n\u001b[0;32m    353\u001b[0m \u001b[43m    \u001b[49m\u001b[43mallow_unreachable\u001b[49m\u001b[38;5;241;43m=\u001b[39;49m\u001b[38;5;28;43;01mTrue\u001b[39;49;00m\u001b[43m,\u001b[49m\n\u001b[0;32m    354\u001b[0m \u001b[43m    \u001b[49m\u001b[43maccumulate_grad\u001b[49m\u001b[38;5;241;43m=\u001b[39;49m\u001b[38;5;28;43;01mTrue\u001b[39;49;00m\u001b[43m,\u001b[49m\n\u001b[0;32m    355\u001b[0m \u001b[43m\u001b[49m\u001b[43m)\u001b[49m\n",
      "File \u001b[1;32md:\\programming_Vscode\\python projects\\dlib_venv\\Lib\\site-packages\\torch\\autograd\\graph.py:825\u001b[0m, in \u001b[0;36m_engine_run_backward\u001b[1;34m(t_outputs, *args, **kwargs)\u001b[0m\n\u001b[0;32m    823\u001b[0m     unregister_hooks \u001b[38;5;241m=\u001b[39m _register_logging_hooks_on_whole_graph(t_outputs)\n\u001b[0;32m    824\u001b[0m \u001b[38;5;28;01mtry\u001b[39;00m:\n\u001b[1;32m--> 825\u001b[0m     \u001b[38;5;28;01mreturn\u001b[39;00m \u001b[43mVariable\u001b[49m\u001b[38;5;241;43m.\u001b[39;49m\u001b[43m_execution_engine\u001b[49m\u001b[38;5;241;43m.\u001b[39;49m\u001b[43mrun_backward\u001b[49m\u001b[43m(\u001b[49m\u001b[43m  \u001b[49m\u001b[38;5;66;43;03m# Calls into the C++ engine to run the backward pass\u001b[39;49;00m\n\u001b[0;32m    826\u001b[0m \u001b[43m        \u001b[49m\u001b[43mt_outputs\u001b[49m\u001b[43m,\u001b[49m\u001b[43m \u001b[49m\u001b[38;5;241;43m*\u001b[39;49m\u001b[43margs\u001b[49m\u001b[43m,\u001b[49m\u001b[43m \u001b[49m\u001b[38;5;241;43m*\u001b[39;49m\u001b[38;5;241;43m*\u001b[39;49m\u001b[43mkwargs\u001b[49m\n\u001b[0;32m    827\u001b[0m \u001b[43m    \u001b[49m\u001b[43m)\u001b[49m  \u001b[38;5;66;03m# Calls into the C++ engine to run the backward pass\u001b[39;00m\n\u001b[0;32m    828\u001b[0m \u001b[38;5;28;01mfinally\u001b[39;00m:\n\u001b[0;32m    829\u001b[0m     \u001b[38;5;28;01mif\u001b[39;00m attach_logging_hooks:\n",
      "\u001b[1;31mKeyboardInterrupt\u001b[0m: "
     ]
    }
   ],
   "source": [
    "import tqdm\n",
    "train_losses = []\n",
    "train_accuracies = []\n",
    "train_f1_scores = []\n",
    "for epoch in range(num_epochs):\n",
    "    epoch_losses = []\n",
    "    epoch_accuracies = []\n",
    "    epoch_f1s = []\n",
    "    progress_bar = tqdm.tqdm(train_loader, desc=f\"Epoch {epoch+1}/{num_epochs}\")\n",
    "    for batch in progress_bar:\n",
    "        texts, targets = batch\n",
    "        inputs = tokenizer([str(t) for t in texts], padding=True, truncation=True, return_tensors=\"pt\")\n",
    "        input_ids = inputs[\"input_ids\"].to(torch.int64)\n",
    "        attention_mask = inputs[\"attention_mask\"].to(torch.int64)\n",
    "        targets = targets.to(torch.float32)\n",
    "        outputs = model(input_ids, attention_mask).squeeze()\n",
    "        loss = criterion(outputs, targets)\n",
    "        optimizer.zero_grad()\n",
    "        loss.backward()\n",
    "        optimizer.step()\n",
    "        probs = torch.sigmoid(outputs)\n",
    "        preds = (probs >= 0.5).float()\n",
    "        accuracy = (preds == targets).float().mean().item()\n",
    "        f1 = f1_score(targets.cpu().numpy(), preds.cpu().numpy(), zero_division=1)\n",
    "        epoch_losses.append(loss.item())\n",
    "        epoch_accuracies.append(accuracy)\n",
    "        epoch_f1s.append(f1)\n",
    "        progress_bar.set_postfix(loss=loss.item(), acc=accuracy, f1=f1)\n",
    "    train_losses.append(sum(epoch_losses) / len(epoch_losses))\n",
    "    train_accuracies.append(sum(epoch_accuracies) / len(epoch_accuracies))\n",
    "    train_f1_scores.append(sum(epoch_f1s) / len(epoch_f1s))\n",
    "    print(f\"Epoch [{epoch+1}/{num_epochs}] - Loss: {train_losses[-1]:.4f}, Acc: {train_accuracies[-1]:.4f}, F1: {train_f1_scores[-1]:.4f}\")"
   ]
  }
 ],
 "metadata": {
  "kernelspec": {
   "display_name": "dlib_venv",
   "language": "python",
   "name": "python3"
  },
  "language_info": {
   "codemirror_mode": {
    "name": "ipython",
    "version": 3
   },
   "file_extension": ".py",
   "mimetype": "text/x-python",
   "name": "python",
   "nbconvert_exporter": "python",
   "pygments_lexer": "ipython3",
   "version": "3.12.9"
  }
 },
 "nbformat": 4,
 "nbformat_minor": 2
}
