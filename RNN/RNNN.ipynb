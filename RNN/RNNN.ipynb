{
 "cells": [
  {
   "cell_type": "markdown",
   "metadata": {},
   "source": [
    "# **Import , and Load Dataset**"
   ]
  },
  {
   "cell_type": "code",
   "execution_count": 86,
   "metadata": {},
   "outputs": [],
   "source": [
    "import numpy as np\n",
    "import pandas as pd\n",
    "import matplotlib.pyplot as plt\n",
    "import os\n",
    "import torch\n",
    "import torch.nn as nn\n",
    "import torch.optim as optim \n",
    "import torch.functional as F\n",
    "from torch.utils.data import Dataset, DataLoader\n",
    "from nltk import word_tokenize , sent_tokenize , WordNetLemmatizer\n",
    "from nltk.corpus import stopwords\n",
    "import string\n",
    "from sklearn.model_selection import train_test_split\n",
    "from sklearn.metrics import f1_score ,  confusion_matrix"
   ]
  },
  {
   "cell_type": "code",
   "execution_count": 2,
   "metadata": {},
   "outputs": [
    {
     "name": "stdout",
     "output_type": "stream",
     "text": [
      "['BJT.txt', 'IMBD-Dataset-', 'IMDB Dataset.csv', 'Mosfet.txt', 'Solid state devices.txt', 'Transistor as amplifier.txt']\n"
     ]
    }
   ],
   "source": [
    "os.chdir(\"D:/NLP Text data\")\n",
    "print(os.listdir())"
   ]
  },
  {
   "cell_type": "code",
   "execution_count": 3,
   "metadata": {},
   "outputs": [],
   "source": [
    "data = pd.read_csv('IMDB Dataset.csv')"
   ]
  },
  {
   "cell_type": "markdown",
   "metadata": {},
   "source": [
    "# **preprocessing text**"
   ]
  },
  {
   "cell_type": "code",
   "execution_count": 4,
   "metadata": {},
   "outputs": [
    {
     "name": "stdout",
     "output_type": "stream",
     "text": [
      "(50000, 3)\n"
     ]
    }
   ],
   "source": [
    "def preprocessing(text) :\n",
    "    punc = set(string.punctuation)\n",
    "    stop_words = set(stopwords.words(\"english\"))\n",
    "    lemmatizer = WordNetLemmatizer()\n",
    "    big_tokens = sent_tokenize(str(text))\n",
    "    preprocessed = []\n",
    "    for i in big_tokens :\n",
    "        small_tokens = word_tokenize(i)\n",
    "        filterd = [ lemmatizer.lemmatize(i.lower()) for i in small_tokens if ( i not in stop_words) and ( i not in punc) and (i.isdigit() == 0)]\n",
    "        preprocessed.append(\" \".join(filterd))\n",
    "    return \" \".join(preprocessed)\n",
    "data[\"review_processed\"] = data['review'].apply(preprocessing)\n",
    "print(data.shape)"
   ]
  },
  {
   "cell_type": "markdown",
   "metadata": {},
   "source": [
    "# **Convert Words to Numerical Sequences**"
   ]
  },
  {
   "cell_type": "code",
   "execution_count": 5,
   "metadata": {},
   "outputs": [
    {
     "data": {
      "text/plain": [
       "0        None\n",
       "1        None\n",
       "2        None\n",
       "3        None\n",
       "4        None\n",
       "         ... \n",
       "49995    None\n",
       "49996    None\n",
       "49997    None\n",
       "49998    None\n",
       "49999    None\n",
       "Name: review_processed, Length: 50000, dtype: object"
      ]
     },
     "execution_count": 5,
     "metadata": {},
     "output_type": "execute_result"
    }
   ],
   "source": [
    "all_text = []\n",
    "def alltext(text) :\n",
    "    all_text.append(word_tokenize(text))\n",
    "data['review_processed'].apply(alltext)"
   ]
  },
  {
   "cell_type": "code",
   "execution_count": 7,
   "metadata": {},
   "outputs": [
    {
     "name": "stdout",
     "output_type": "stream",
     "text": [
      "number of words in list datastructure : 7112983\n",
      "number of words in Set datastructure  : 143309\n",
      "this mean the list is larger than set with : 49 scaler\n"
     ]
    }
   ],
   "source": [
    "all_text_words = []\n",
    "for i in range(1,50001):\n",
    "    all_text_words += all_text[i-1]\n",
    "print(\"number of words in list datastructure :\",len(all_text_words))\n",
    "print(\"number of words in Set datastructure  :\",len(set(all_text_words)))\n",
    "print(\"this mean the list is larger than set with :\",int(len(all_text_words)/len(set(all_text_words))),\"scaler\")"
   ]
  },
  {
   "cell_type": "code",
   "execution_count": 8,
   "metadata": {},
   "outputs": [
    {
     "name": "stdout",
     "output_type": "stream",
     "text": [
      "143309\n",
      "143309\n"
     ]
    }
   ],
   "source": [
    "all_text_words = set(all_text_words)\n",
    "numbers = [ i for i in range(len(all_text_words))]\n",
    "word_to_idx = dict()\n",
    "idx_to_word = dict()\n",
    "for i , j in zip(all_text_words,numbers) :\n",
    "    word_to_idx.update({i:j})\n",
    "    idx_to_word.update({j:i})\n",
    "print(len(word_to_idx))\n",
    "print(len(idx_to_word))"
   ]
  },
  {
   "cell_type": "code",
   "execution_count": 9,
   "metadata": {},
   "outputs": [
    {
     "name": "stdout",
     "output_type": "stream",
     "text": [
      "                                    review_processed  \\\n",
      "0  one reviewer mentioned watching oz episode 'll...   \n",
      "1  a wonderful little production br br the filmin...   \n",
      "2  i thought wonderful way spend time hot summer ...   \n",
      "3  basically 's family little boy jake think 's z...   \n",
      "\n",
      "                                            sequence  \n",
      "0  [39109, 38102, 9962, 17889, 649, 9513, 88307, ...  \n",
      "1  [132024, 44476, 75879, 38970, 70231, 70231, 66...  \n",
      "2  [49497, 51849, 44476, 26893, 74470, 75144, 829...  \n",
      "3  [70535, 141596, 44467, 75879, 88392, 65285, 13...  \n"
     ]
    }
   ],
   "source": [
    "def add_seqence(text) :\n",
    "    tokenss = word_tokenize(text)\n",
    "    converted = [ word_to_idx.get(i) for i in tokenss]\n",
    "    return converted\n",
    "data[\"sequence\"] = data[\"review_processed\"].apply(add_seqence)\n",
    "print(data.iloc[:4,2:])"
   ]
  },
  {
   "cell_type": "markdown",
   "metadata": {},
   "source": [
    "# **Select fixed sequence lenght to train**"
   ]
  },
  {
   "cell_type": "code",
   "execution_count": 29,
   "metadata": {},
   "outputs": [
    {
     "name": "stdout",
     "output_type": "stream",
     "text": [
      "50000\n",
      "50000\n"
     ]
    }
   ],
   "source": [
    "def pad_sequence(seq, seq_length=142):\n",
    "    if len(seq) > seq_length:\n",
    "        return seq[:seq_length]\n",
    "    else:\n",
    "        return seq + [0] * (seq_length - len(seq))\n",
    "data[\"padded_sequence\"] = data[\"sequence\"].apply(pad_sequence)\n",
    "x = np.array(data['padded_sequence'].tolist())\n",
    "y = np.array(data['sentiment'].map({\"positive\": 1, \"negative\": 0}))\n",
    "print(len(x))\n",
    "print(len(y))"
   ]
  },
  {
   "cell_type": "markdown",
   "metadata": {},
   "source": [
    "# **Train model phase**"
   ]
  },
  {
   "cell_type": "code",
   "execution_count": 83,
   "metadata": {},
   "outputs": [
    {
     "name": "stdout",
     "output_type": "stream",
     "text": [
      "Training set size: 40000\n",
      "Test set size: 10000\n"
     ]
    }
   ],
   "source": [
    "class IMDBDataset(Dataset):\n",
    "    def __init__(self, X, y):\n",
    "        self.X = torch.tensor(X, dtype=torch.int64)\n",
    "        self.y = torch.tensor(y, dtype=torch.int64)\n",
    "\n",
    "    def __len__(self):\n",
    "        return len(self.X)\n",
    "\n",
    "    def __getitem__(self, index):\n",
    "        return self.X[index], self.y[index]\n",
    "X_train, X_test, y_train, y_test = train_test_split(x, y, test_size=0.2, random_state=42)\n",
    "train_dataset = IMDBDataset(X_train, y_train)\n",
    "test_dataset = IMDBDataset(X_test, y_test)\n",
    "train_loader = DataLoader(train_dataset, batch_size=10000, shuffle=True)\n",
    "test_loader = DataLoader(test_dataset, batch_size=2500, shuffle=False)\n",
    "\n",
    "print(\"Training set size:\", len(train_dataset))\n",
    "print(\"Test set size:\", len(test_dataset))"
   ]
  },
  {
   "cell_type": "code",
   "execution_count": 57,
   "metadata": {},
   "outputs": [],
   "source": [
    "class SentimentRNN(nn.Module):\n",
    "    def __init__(self, vocab_size, embed_size, hidden_size, output_size, num_layers):\n",
    "        super(SentimentRNN, self).__init__()\n",
    "        self.embedding = nn.Embedding(vocab_size, embed_size, padding_idx=0)\n",
    "        self.rnn = nn.RNN(embed_size, hidden_size, num_layers, batch_first=True)\n",
    "        self.fc = nn.Linear(hidden_size, output_size)\n",
    "\n",
    "    def forward(self, x):\n",
    "        x = self.embedding(x)\n",
    "        h0 = torch.zeros(self.rnn.num_layers, x.size(0), self.rnn.hidden_size).to(x.device)\n",
    "        out, _ = self.rnn(x, h0)\n",
    "        out = self.fc(out[:, -1, :])\n",
    "        return out\n",
    "\n",
    "vocab_size = 143309 + 1\n",
    "embed_size = 350\n",
    "hidden_size = 128\n",
    "output_size = 1\n",
    "num_layers = 2\n",
    "num_epochs = 100\n",
    "learning_rate = 0.001\n",
    "model = SentimentRNN(vocab_size, embed_size, hidden_size, output_size, num_layers)\n",
    "criterion = nn.BCEWithLogitsLoss() \n",
    "optimizer = optim.Adam(model.parameters(), lr=learning_rate)"
   ]
  },
  {
   "cell_type": "code",
   "execution_count": null,
   "metadata": {},
   "outputs": [
    {
     "name": "stderr",
     "output_type": "stream",
     "text": [
      "Epoch 1/100: 100%|██████████| 4/4 [15:05<00:00, 226.36s/it, acc=0.499, f1=0.248, loss=0.694]\n"
     ]
    },
    {
     "name": "stdout",
     "output_type": "stream",
     "text": [
      "Epoch [1/100] - Loss: 0.6948, Acc: 0.4990, F1: 0.4313\n"
     ]
    },
    {
     "name": "stderr",
     "output_type": "stream",
     "text": [
      "Epoch 2/100: 100%|██████████| 4/4 [15:49<00:00, 237.36s/it, acc=0.526, f1=0.283, loss=0.689]\n"
     ]
    },
    {
     "name": "stdout",
     "output_type": "stream",
     "text": [
      "Epoch [2/100] - Loss: 0.6894, Acc: 0.5238, F1: 0.2571\n"
     ]
    },
    {
     "name": "stderr",
     "output_type": "stream",
     "text": [
      "Epoch 3/100: 100%|██████████| 4/4 [13:06<00:00, 196.60s/it, acc=0.529, f1=0.643, loss=0.685]\n"
     ]
    },
    {
     "name": "stdout",
     "output_type": "stream",
     "text": [
      "Epoch [3/100] - Loss: 0.6858, Acc: 0.5328, F1: 0.6467\n"
     ]
    },
    {
     "name": "stderr",
     "output_type": "stream",
     "text": [
      "Epoch 4/100: 100%|██████████| 4/4 [12:59<00:00, 194.94s/it, acc=0.546, f1=0.302, loss=0.678]\n"
     ]
    },
    {
     "name": "stdout",
     "output_type": "stream",
     "text": [
      "Epoch [4/100] - Loss: 0.6804, Acc: 0.5415, F1: 0.3860\n"
     ]
    },
    {
     "name": "stderr",
     "output_type": "stream",
     "text": [
      "Epoch 5/100: 100%|██████████| 4/4 [10:29<00:00, 157.47s/it, acc=0.553, f1=0.658, loss=0.672]\n"
     ]
    },
    {
     "name": "stdout",
     "output_type": "stream",
     "text": [
      "Epoch [5/100] - Loss: 0.6730, Acc: 0.5528, F1: 0.5736\n"
     ]
    },
    {
     "name": "stderr",
     "output_type": "stream",
     "text": [
      "Epoch 6/100: 100%|██████████| 4/4 [00:59<00:00, 14.87s/it, acc=0.571, f1=0.673, loss=0.659]\n"
     ]
    },
    {
     "name": "stdout",
     "output_type": "stream",
     "text": [
      "Epoch [6/100] - Loss: 0.6635, Acc: 0.5649, F1: 0.4394\n"
     ]
    },
    {
     "name": "stderr",
     "output_type": "stream",
     "text": [
      "Epoch 7/100: 100%|██████████| 4/4 [00:56<00:00, 14.03s/it, acc=0.586, f1=0.678, loss=0.648]\n"
     ]
    },
    {
     "name": "stdout",
     "output_type": "stream",
     "text": [
      "Epoch [7/100] - Loss: 0.6544, Acc: 0.5781, F1: 0.6005\n"
     ]
    },
    {
     "name": "stderr",
     "output_type": "stream",
     "text": [
      "Epoch 8/100: 100%|██████████| 4/4 [00:57<00:00, 14.31s/it, acc=0.587, f1=0.682, loss=0.64] \n"
     ]
    },
    {
     "name": "stdout",
     "output_type": "stream",
     "text": [
      "Epoch [8/100] - Loss: 0.6448, Acc: 0.5823, F1: 0.4554\n"
     ]
    },
    {
     "name": "stderr",
     "output_type": "stream",
     "text": [
      "Epoch 9/100: 100%|██████████| 4/4 [00:56<00:00, 14.16s/it, acc=0.596, f1=0.412, loss=0.63] \n"
     ]
    },
    {
     "name": "stdout",
     "output_type": "stream",
     "text": [
      "Epoch [9/100] - Loss: 0.6333, Acc: 0.5885, F1: 0.5477\n"
     ]
    },
    {
     "name": "stderr",
     "output_type": "stream",
     "text": [
      "Epoch 10/100: 100%|██████████| 4/4 [00:55<00:00, 13.98s/it, acc=0.604, f1=0.701, loss=0.741]\n"
     ]
    },
    {
     "name": "stdout",
     "output_type": "stream",
     "text": [
      "Epoch [10/100] - Loss: 0.6872, Acc: 0.6114, F1: 0.6496\n"
     ]
    },
    {
     "name": "stderr",
     "output_type": "stream",
     "text": [
      "Epoch 11/100: 100%|██████████| 4/4 [00:56<00:00, 14.22s/it, acc=0.604, f1=0.694, loss=0.62] \n"
     ]
    },
    {
     "name": "stdout",
     "output_type": "stream",
     "text": [
      "Epoch [11/100] - Loss: 0.6410, Acc: 0.6018, F1: 0.6937\n"
     ]
    },
    {
     "name": "stderr",
     "output_type": "stream",
     "text": [
      "Epoch 12/100: 100%|██████████| 4/4 [05:26<00:00, 81.72s/it, acc=0.605, f1=0.403, loss=0.618]\n"
     ]
    },
    {
     "name": "stdout",
     "output_type": "stream",
     "text": [
      "Epoch [12/100] - Loss: 0.6197, Acc: 0.6011, F1: 0.3974\n"
     ]
    },
    {
     "name": "stderr",
     "output_type": "stream",
     "text": [
      "Epoch 13/100: 100%|██████████| 4/4 [06:29<00:00, 97.41s/it, acc=0.609, f1=0.415, loss=0.612] \n"
     ]
    },
    {
     "name": "stdout",
     "output_type": "stream",
     "text": [
      "Epoch [13/100] - Loss: 0.6165, Acc: 0.6059, F1: 0.4117\n"
     ]
    },
    {
     "name": "stderr",
     "output_type": "stream",
     "text": [
      "Epoch 14/100: 100%|██████████| 4/4 [04:31<00:00, 67.99s/it, acc=0.615, f1=0.428, loss=0.606]\n"
     ]
    },
    {
     "name": "stdout",
     "output_type": "stream",
     "text": [
      "Epoch [14/100] - Loss: 0.6068, Acc: 0.6136, F1: 0.4290\n"
     ]
    },
    {
     "name": "stderr",
     "output_type": "stream",
     "text": [
      "Epoch 15/100: 100%|██████████| 4/4 [02:36<00:00, 39.05s/it, acc=0.618, f1=0.442, loss=0.591]\n"
     ]
    },
    {
     "name": "stdout",
     "output_type": "stream",
     "text": [
      "Epoch [15/100] - Loss: 0.5941, Acc: 0.6217, F1: 0.4459\n"
     ]
    },
    {
     "name": "stderr",
     "output_type": "stream",
     "text": [
      "Epoch 16/100: 100%|██████████| 4/4 [01:28<00:00, 22.10s/it, acc=0.628, f1=0.473, loss=0.579]\n"
     ]
    },
    {
     "name": "stdout",
     "output_type": "stream",
     "text": [
      "Epoch [16/100] - Loss: 0.5809, Acc: 0.6282, F1: 0.4648\n"
     ]
    },
    {
     "name": "stderr",
     "output_type": "stream",
     "text": [
      "Epoch 17/100: 100%|██████████| 4/4 [01:06<00:00, 16.58s/it, acc=0.644, f1=0.724, loss=0.558]\n"
     ]
    },
    {
     "name": "stdout",
     "output_type": "stream",
     "text": [
      "Epoch [17/100] - Loss: 0.5675, Acc: 0.6357, F1: 0.7177\n"
     ]
    },
    {
     "name": "stderr",
     "output_type": "stream",
     "text": [
      "Epoch 18/100: 100%|██████████| 4/4 [01:03<00:00, 15.83s/it, acc=0.645, f1=0.729, loss=0.55] \n"
     ]
    },
    {
     "name": "stdout",
     "output_type": "stream",
     "text": [
      "Epoch [18/100] - Loss: 0.5537, Acc: 0.6435, F1: 0.7254\n"
     ]
    },
    {
     "name": "stderr",
     "output_type": "stream",
     "text": [
      "Epoch 19/100: 100%|██████████| 4/4 [01:11<00:00, 17.87s/it, acc=0.648, f1=0.726, loss=0.538]\n"
     ]
    },
    {
     "name": "stdout",
     "output_type": "stream",
     "text": [
      "Epoch [19/100] - Loss: 0.5388, Acc: 0.6512, F1: 0.7301\n"
     ]
    },
    {
     "name": "stderr",
     "output_type": "stream",
     "text": [
      "Epoch 20/100: 100%|██████████| 4/4 [01:07<00:00, 16.90s/it, acc=0.656, f1=0.509, loss=0.523]\n"
     ]
    },
    {
     "name": "stdout",
     "output_type": "stream",
     "text": [
      "Epoch [20/100] - Loss: 0.5241, Acc: 0.6573, F1: 0.5148\n"
     ]
    },
    {
     "name": "stderr",
     "output_type": "stream",
     "text": [
      "Epoch 21/100: 100%|██████████| 4/4 [01:06<00:00, 16.62s/it, acc=0.663, f1=0.529, loss=0.506]\n"
     ]
    },
    {
     "name": "stdout",
     "output_type": "stream",
     "text": [
      "Epoch [21/100] - Loss: 0.5096, Acc: 0.6660, F1: 0.5245\n"
     ]
    },
    {
     "name": "stderr",
     "output_type": "stream",
     "text": [
      "Epoch 22/100: 100%|██████████| 4/4 [01:03<00:00, 15.84s/it, acc=0.673, f1=0.745, loss=0.494]\n"
     ]
    },
    {
     "name": "stdout",
     "output_type": "stream",
     "text": [
      "Epoch [22/100] - Loss: 0.4960, Acc: 0.6721, F1: 0.6485\n"
     ]
    },
    {
     "name": "stderr",
     "output_type": "stream",
     "text": [
      "Epoch 23/100: 100%|██████████| 4/4 [00:58<00:00, 14.58s/it, acc=0.675, f1=0.744, loss=0.479]\n"
     ]
    },
    {
     "name": "stdout",
     "output_type": "stream",
     "text": [
      "Epoch [23/100] - Loss: 0.4833, Acc: 0.6788, F1: 0.7487\n"
     ]
    },
    {
     "name": "stderr",
     "output_type": "stream",
     "text": [
      "Epoch 24/100: 100%|██████████| 4/4 [00:57<00:00, 14.33s/it, acc=0.688, f1=0.563, loss=0.469]\n"
     ]
    },
    {
     "name": "stdout",
     "output_type": "stream",
     "text": [
      "Epoch [24/100] - Loss: 0.4724, Acc: 0.6812, F1: 0.5602\n"
     ]
    },
    {
     "name": "stderr",
     "output_type": "stream",
     "text": [
      "Epoch 25/100: 100%|██████████| 4/4 [00:56<00:00, 14.03s/it, acc=0.688, f1=0.753, loss=0.461]\n"
     ]
    },
    {
     "name": "stdout",
     "output_type": "stream",
     "text": [
      "Epoch [25/100] - Loss: 0.4633, Acc: 0.6835, F1: 0.6671\n"
     ]
    },
    {
     "name": "stderr",
     "output_type": "stream",
     "text": [
      "Epoch 26/100: 100%|██████████| 4/4 [00:56<00:00, 14.22s/it, acc=0.68, f1=0.579, loss=0.455] \n"
     ]
    },
    {
     "name": "stdout",
     "output_type": "stream",
     "text": [
      "Epoch [26/100] - Loss: 0.4556, Acc: 0.6868, F1: 0.6664\n"
     ]
    },
    {
     "name": "stderr",
     "output_type": "stream",
     "text": [
      "Epoch 27/100: 100%|██████████| 4/4 [00:57<00:00, 14.28s/it, acc=0.694, f1=0.75, loss=0.448] \n"
     ]
    },
    {
     "name": "stdout",
     "output_type": "stream",
     "text": [
      "Epoch [27/100] - Loss: 0.4500, Acc: 0.6907, F1: 0.7100\n"
     ]
    },
    {
     "name": "stderr",
     "output_type": "stream",
     "text": [
      "Epoch 28/100: 100%|██████████| 4/4 [00:56<00:00, 14.19s/it, acc=0.702, f1=0.755, loss=0.443]\n"
     ]
    },
    {
     "name": "stdout",
     "output_type": "stream",
     "text": [
      "Epoch [28/100] - Loss: 0.4450, Acc: 0.6925, F1: 0.6240\n"
     ]
    },
    {
     "name": "stderr",
     "output_type": "stream",
     "text": [
      "Epoch 29/100: 100%|██████████| 4/4 [00:55<00:00, 13.92s/it, acc=0.692, f1=0.584, loss=0.444]\n"
     ]
    },
    {
     "name": "stdout",
     "output_type": "stream",
     "text": [
      "Epoch [29/100] - Loss: 0.4430, Acc: 0.6950, F1: 0.6727\n"
     ]
    },
    {
     "name": "stderr",
     "output_type": "stream",
     "text": [
      "Epoch 30/100: 100%|██████████| 4/4 [00:56<00:00, 14.07s/it, acc=0.695, f1=0.571, loss=0.441]\n"
     ]
    },
    {
     "name": "stdout",
     "output_type": "stream",
     "text": [
      "Epoch [30/100] - Loss: 0.4391, Acc: 0.6918, F1: 0.6305\n"
     ]
    },
    {
     "name": "stderr",
     "output_type": "stream",
     "text": [
      "Epoch 31/100: 100%|██████████| 4/4 [00:56<00:00, 14.17s/it, acc=0.698, f1=0.765, loss=0.442]\n"
     ]
    },
    {
     "name": "stdout",
     "output_type": "stream",
     "text": [
      "Epoch [31/100] - Loss: 0.4355, Acc: 0.6987, F1: 0.6842\n"
     ]
    },
    {
     "name": "stderr",
     "output_type": "stream",
     "text": [
      "Epoch 32/100: 100%|██████████| 4/4 [00:56<00:00, 14.11s/it, acc=0.698, f1=0.585, loss=0.438]\n"
     ]
    },
    {
     "name": "stdout",
     "output_type": "stream",
     "text": [
      "Epoch [32/100] - Loss: 0.4392, Acc: 0.6996, F1: 0.6746\n"
     ]
    },
    {
     "name": "stderr",
     "output_type": "stream",
     "text": [
      "Epoch 33/100: 100%|██████████| 4/4 [00:56<00:00, 14.01s/it, acc=0.695, f1=0.607, loss=0.432]\n"
     ]
    },
    {
     "name": "stdout",
     "output_type": "stream",
     "text": [
      "Epoch [33/100] - Loss: 0.4331, Acc: 0.6973, F1: 0.5862\n"
     ]
    },
    {
     "name": "stderr",
     "output_type": "stream",
     "text": [
      "Epoch 34/100: 100%|██████████| 4/4 [00:55<00:00, 13.93s/it, acc=0.705, f1=0.761, loss=0.429]\n"
     ]
    },
    {
     "name": "stdout",
     "output_type": "stream",
     "text": [
      "Epoch [34/100] - Loss: 0.4308, Acc: 0.7023, F1: 0.7615\n"
     ]
    },
    {
     "name": "stderr",
     "output_type": "stream",
     "text": [
      "Epoch 35/100: 100%|██████████| 4/4 [00:56<00:00, 14.06s/it, acc=0.689, f1=0.66, loss=0.427] \n"
     ]
    },
    {
     "name": "stdout",
     "output_type": "stream",
     "text": [
      "Epoch [35/100] - Loss: 0.4274, Acc: 0.7014, F1: 0.7355\n"
     ]
    },
    {
     "name": "stderr",
     "output_type": "stream",
     "text": [
      "Epoch 36/100: 100%|██████████| 4/4 [00:57<00:00, 14.26s/it, acc=0.705, f1=0.627, loss=0.42] \n"
     ]
    },
    {
     "name": "stdout",
     "output_type": "stream",
     "text": [
      "Epoch [36/100] - Loss: 0.4246, Acc: 0.7028, F1: 0.6155\n"
     ]
    },
    {
     "name": "stderr",
     "output_type": "stream",
     "text": [
      "Epoch 37/100: 100%|██████████| 4/4 [00:56<00:00, 14.07s/it, acc=0.707, f1=0.695, loss=0.425]\n"
     ]
    },
    {
     "name": "stdout",
     "output_type": "stream",
     "text": [
      "Epoch [37/100] - Loss: 0.4221, Acc: 0.7071, F1: 0.6433\n"
     ]
    },
    {
     "name": "stderr",
     "output_type": "stream",
     "text": [
      "Epoch 38/100: 100%|██████████| 4/4 [00:56<00:00, 14.08s/it, acc=0.706, f1=0.763, loss=0.422]\n"
     ]
    },
    {
     "name": "stdout",
     "output_type": "stream",
     "text": [
      "Epoch [38/100] - Loss: 0.4233, Acc: 0.7098, F1: 0.7467\n"
     ]
    },
    {
     "name": "stderr",
     "output_type": "stream",
     "text": [
      "Epoch 39/100: 100%|██████████| 4/4 [00:56<00:00, 14.20s/it, acc=0.719, f1=0.739, loss=0.418]\n"
     ]
    },
    {
     "name": "stdout",
     "output_type": "stream",
     "text": [
      "Epoch [39/100] - Loss: 0.4212, Acc: 0.7149, F1: 0.7564\n"
     ]
    },
    {
     "name": "stderr",
     "output_type": "stream",
     "text": [
      "Epoch 40/100: 100%|██████████| 4/4 [00:56<00:00, 14.01s/it, acc=0.693, f1=0.686, loss=0.471]\n"
     ]
    },
    {
     "name": "stdout",
     "output_type": "stream",
     "text": [
      "Epoch [40/100] - Loss: 0.4352, Acc: 0.7106, F1: 0.7140\n"
     ]
    },
    {
     "name": "stderr",
     "output_type": "stream",
     "text": [
      "Epoch 41/100: 100%|██████████| 4/4 [00:56<00:00, 14.24s/it, acc=0.684, f1=0.673, loss=0.466]\n"
     ]
    },
    {
     "name": "stdout",
     "output_type": "stream",
     "text": [
      "Epoch [41/100] - Loss: 0.4852, Acc: 0.6939, F1: 0.6715\n"
     ]
    },
    {
     "name": "stderr",
     "output_type": "stream",
     "text": [
      "Epoch 42/100: 100%|██████████| 4/4 [00:55<00:00, 13.84s/it, acc=0.681, f1=0.701, loss=0.485]\n"
     ]
    },
    {
     "name": "stdout",
     "output_type": "stream",
     "text": [
      "Epoch [42/100] - Loss: 0.4834, Acc: 0.6832, F1: 0.6766\n"
     ]
    },
    {
     "name": "stderr",
     "output_type": "stream",
     "text": [
      "Epoch 43/100: 100%|██████████| 4/4 [01:00<00:00, 15.09s/it, acc=0.691, f1=0.756, loss=0.452]\n"
     ]
    },
    {
     "name": "stdout",
     "output_type": "stream",
     "text": [
      "Epoch [43/100] - Loss: 0.4579, Acc: 0.6895, F1: 0.7480\n"
     ]
    },
    {
     "name": "stderr",
     "output_type": "stream",
     "text": [
      "Epoch 44/100: 100%|██████████| 4/4 [01:11<00:00, 17.96s/it, acc=0.688, f1=0.582, loss=0.445]\n"
     ]
    },
    {
     "name": "stdout",
     "output_type": "stream",
     "text": [
      "Epoch [44/100] - Loss: 0.4471, Acc: 0.6891, F1: 0.5864\n"
     ]
    },
    {
     "name": "stderr",
     "output_type": "stream",
     "text": [
      "Epoch 45/100: 100%|██████████| 4/4 [01:04<00:00, 16.09s/it, acc=0.701, f1=0.756, loss=0.441]\n"
     ]
    },
    {
     "name": "stdout",
     "output_type": "stream",
     "text": [
      "Epoch [45/100] - Loss: 0.4409, Acc: 0.6929, F1: 0.6689\n"
     ]
    },
    {
     "name": "stderr",
     "output_type": "stream",
     "text": [
      "Epoch 46/100: 100%|██████████| 4/4 [01:04<00:00, 16.07s/it, acc=0.699, f1=0.61, loss=0.428] \n"
     ]
    },
    {
     "name": "stdout",
     "output_type": "stream",
     "text": [
      "Epoch [46/100] - Loss: 0.4359, Acc: 0.6990, F1: 0.7194\n"
     ]
    },
    {
     "name": "stderr",
     "output_type": "stream",
     "text": [
      "Epoch 47/100: 100%|██████████| 4/4 [01:04<00:00, 16.19s/it, acc=0.699, f1=0.755, loss=0.433]\n"
     ]
    },
    {
     "name": "stdout",
     "output_type": "stream",
     "text": [
      "Epoch [47/100] - Loss: 0.4313, Acc: 0.6982, F1: 0.6483\n"
     ]
    },
    {
     "name": "stderr",
     "output_type": "stream",
     "text": [
      "Epoch 48/100: 100%|██████████| 4/4 [01:11<00:00, 17.86s/it, acc=0.704, f1=0.606, loss=0.421]\n"
     ]
    },
    {
     "name": "stdout",
     "output_type": "stream",
     "text": [
      "Epoch [48/100] - Loss: 0.4258, Acc: 0.7037, F1: 0.6825\n"
     ]
    },
    {
     "name": "stderr",
     "output_type": "stream",
     "text": [
      "Epoch 49/100: 100%|██████████| 4/4 [01:05<00:00, 16.47s/it, acc=0.702, f1=0.759, loss=0.427]\n"
     ]
    },
    {
     "name": "stdout",
     "output_type": "stream",
     "text": [
      "Epoch [49/100] - Loss: 0.4219, Acc: 0.7066, F1: 0.7245\n"
     ]
    },
    {
     "name": "stderr",
     "output_type": "stream",
     "text": [
      "Epoch 50/100: 100%|██████████| 4/4 [01:01<00:00, 15.32s/it, acc=0.705, f1=0.61, loss=0.415] \n"
     ]
    },
    {
     "name": "stdout",
     "output_type": "stream",
     "text": [
      "Epoch [50/100] - Loss: 0.4178, Acc: 0.7072, F1: 0.7000\n"
     ]
    },
    {
     "name": "stderr",
     "output_type": "stream",
     "text": [
      "Epoch 51/100: 100%|██████████| 4/4 [00:57<00:00, 14.30s/it, acc=0.713, f1=0.766, loss=0.414]\n"
     ]
    },
    {
     "name": "stdout",
     "output_type": "stream",
     "text": [
      "Epoch [51/100] - Loss: 0.4145, Acc: 0.7102, F1: 0.6572\n"
     ]
    },
    {
     "name": "stderr",
     "output_type": "stream",
     "text": [
      "Epoch 52/100: 100%|██████████| 4/4 [00:56<00:00, 14.03s/it, acc=0.716, f1=0.641, loss=0.408]\n"
     ]
    },
    {
     "name": "stdout",
     "output_type": "stream",
     "text": [
      "Epoch [52/100] - Loss: 0.4111, Acc: 0.7170, F1: 0.7354\n"
     ]
    },
    {
     "name": "stderr",
     "output_type": "stream",
     "text": [
      "Epoch 53/100: 100%|██████████| 4/4 [00:56<00:00, 14.14s/it, acc=0.732, f1=0.752, loss=0.411]\n"
     ]
    },
    {
     "name": "stdout",
     "output_type": "stream",
     "text": [
      "Epoch [53/100] - Loss: 0.4075, Acc: 0.7222, F1: 0.6815\n"
     ]
    },
    {
     "name": "stderr",
     "output_type": "stream",
     "text": [
      "Epoch 54/100: 100%|██████████| 4/4 [00:55<00:00, 13.91s/it, acc=0.725, f1=0.734, loss=0.405]\n"
     ]
    },
    {
     "name": "stdout",
     "output_type": "stream",
     "text": [
      "Epoch [54/100] - Loss: 0.4038, Acc: 0.7289, F1: 0.7423\n"
     ]
    },
    {
     "name": "stderr",
     "output_type": "stream",
     "text": [
      "Epoch 55/100: 100%|██████████| 4/4 [00:55<00:00, 13.94s/it, acc=0.733, f1=0.729, loss=0.399]\n"
     ]
    },
    {
     "name": "stdout",
     "output_type": "stream",
     "text": [
      "Epoch [55/100] - Loss: 0.4003, Acc: 0.7339, F1: 0.7391\n"
     ]
    },
    {
     "name": "stderr",
     "output_type": "stream",
     "text": [
      "Epoch 56/100: 100%|██████████| 4/4 [00:56<00:00, 14.07s/it, acc=0.742, f1=0.757, loss=0.396]\n"
     ]
    },
    {
     "name": "stdout",
     "output_type": "stream",
     "text": [
      "Epoch [56/100] - Loss: 0.3959, Acc: 0.7400, F1: 0.7348\n"
     ]
    },
    {
     "name": "stderr",
     "output_type": "stream",
     "text": [
      "Epoch 57/100: 100%|██████████| 4/4 [00:55<00:00, 13.86s/it, acc=0.752, f1=0.731, loss=0.39] \n"
     ]
    },
    {
     "name": "stdout",
     "output_type": "stream",
     "text": [
      "Epoch [57/100] - Loss: 0.3914, Acc: 0.7482, F1: 0.7418\n"
     ]
    },
    {
     "name": "stderr",
     "output_type": "stream",
     "text": [
      "Epoch 58/100: 100%|██████████| 4/4 [00:55<00:00, 13.97s/it, acc=0.76, f1=0.765, loss=0.415] \n"
     ]
    },
    {
     "name": "stdout",
     "output_type": "stream",
     "text": [
      "Epoch [58/100] - Loss: 0.4611, Acc: 0.7477, F1: 0.7546\n"
     ]
    },
    {
     "name": "stderr",
     "output_type": "stream",
     "text": [
      "Epoch 59/100: 100%|██████████| 4/4 [01:00<00:00, 15.02s/it, acc=0.721, f1=0.631, loss=0.409]\n"
     ]
    },
    {
     "name": "stdout",
     "output_type": "stream",
     "text": [
      "Epoch [59/100] - Loss: 0.4111, Acc: 0.7160, F1: 0.6261\n"
     ]
    },
    {
     "name": "stderr",
     "output_type": "stream",
     "text": [
      "Epoch 60/100: 100%|██████████| 4/4 [00:59<00:00, 14.80s/it, acc=0.725, f1=0.779, loss=0.413]\n"
     ]
    },
    {
     "name": "stdout",
     "output_type": "stream",
     "text": [
      "Epoch [60/100] - Loss: 0.4086, Acc: 0.7182, F1: 0.7407\n"
     ]
    },
    {
     "name": "stderr",
     "output_type": "stream",
     "text": [
      "Epoch 61/100: 100%|██████████| 4/4 [00:56<00:00, 14.15s/it, acc=0.722, f1=0.769, loss=0.412]\n"
     ]
    },
    {
     "name": "stdout",
     "output_type": "stream",
     "text": [
      "Epoch [61/100] - Loss: 0.4066, Acc: 0.7236, F1: 0.7746\n"
     ]
    },
    {
     "name": "stderr",
     "output_type": "stream",
     "text": [
      "Epoch 62/100: 100%|██████████| 4/4 [00:56<00:00, 14.04s/it, acc=0.718, f1=0.635, loss=0.401]\n"
     ]
    },
    {
     "name": "stdout",
     "output_type": "stream",
     "text": [
      "Epoch [62/100] - Loss: 0.4028, Acc: 0.7245, F1: 0.6807\n"
     ]
    },
    {
     "name": "stderr",
     "output_type": "stream",
     "text": [
      "Epoch 63/100: 100%|██████████| 4/4 [00:56<00:00, 14.23s/it, acc=0.73, f1=0.658, loss=0.391] \n"
     ]
    },
    {
     "name": "stdout",
     "output_type": "stream",
     "text": [
      "Epoch [63/100] - Loss: 0.3994, Acc: 0.7199, F1: 0.6427\n"
     ]
    },
    {
     "name": "stderr",
     "output_type": "stream",
     "text": [
      "Epoch 64/100: 100%|██████████| 4/4 [00:55<00:00, 13.93s/it, acc=0.734, f1=0.769, loss=0.392]\n"
     ]
    },
    {
     "name": "stdout",
     "output_type": "stream",
     "text": [
      "Epoch [64/100] - Loss: 0.3953, Acc: 0.7326, F1: 0.7232\n"
     ]
    },
    {
     "name": "stderr",
     "output_type": "stream",
     "text": [
      "Epoch 65/100: 100%|██████████| 4/4 [00:55<00:00, 13.79s/it, acc=0.74, f1=0.78, loss=0.389]  \n"
     ]
    },
    {
     "name": "stdout",
     "output_type": "stream",
     "text": [
      "Epoch [65/100] - Loss: 0.3914, Acc: 0.7349, F1: 0.7765\n"
     ]
    },
    {
     "name": "stderr",
     "output_type": "stream",
     "text": [
      "Epoch 66/100: 100%|██████████| 4/4 [00:56<00:00, 14.11s/it, acc=0.746, f1=0.771, loss=0.383]\n"
     ]
    },
    {
     "name": "stdout",
     "output_type": "stream",
     "text": [
      "Epoch [66/100] - Loss: 0.3875, Acc: 0.7459, F1: 0.7752\n"
     ]
    },
    {
     "name": "stderr",
     "output_type": "stream",
     "text": [
      "Epoch 67/100: 100%|██████████| 4/4 [00:55<00:00, 13.95s/it, acc=0.729, f1=0.685, loss=0.388]\n"
     ]
    },
    {
     "name": "stdout",
     "output_type": "stream",
     "text": [
      "Epoch [67/100] - Loss: 0.3846, Acc: 0.7321, F1: 0.6954\n"
     ]
    },
    {
     "name": "stderr",
     "output_type": "stream",
     "text": [
      "Epoch 68/100: 100%|██████████| 4/4 [00:56<00:00, 14.02s/it, acc=0.738, f1=0.746, loss=0.386]\n"
     ]
    },
    {
     "name": "stdout",
     "output_type": "stream",
     "text": [
      "Epoch [68/100] - Loss: 0.3812, Acc: 0.7380, F1: 0.7122\n"
     ]
    },
    {
     "name": "stderr",
     "output_type": "stream",
     "text": [
      "Epoch 69/100: 100%|██████████| 4/4 [00:56<00:00, 14.23s/it, acc=0.749, f1=0.772, loss=0.381]\n"
     ]
    },
    {
     "name": "stdout",
     "output_type": "stream",
     "text": [
      "Epoch [69/100] - Loss: 0.3775, Acc: 0.7544, F1: 0.7767\n"
     ]
    },
    {
     "name": "stderr",
     "output_type": "stream",
     "text": [
      "Epoch 70/100: 100%|██████████| 4/4 [00:56<00:00, 14.23s/it, acc=0.757, f1=0.783, loss=0.373]\n"
     ]
    },
    {
     "name": "stdout",
     "output_type": "stream",
     "text": [
      "Epoch [70/100] - Loss: 0.3746, Acc: 0.7576, F1: 0.7827\n"
     ]
    },
    {
     "name": "stderr",
     "output_type": "stream",
     "text": [
      "Epoch 71/100: 100%|██████████| 4/4 [00:57<00:00, 14.35s/it, acc=0.751, f1=0.764, loss=0.377]\n"
     ]
    },
    {
     "name": "stdout",
     "output_type": "stream",
     "text": [
      "Epoch [71/100] - Loss: 0.3736, Acc: 0.7560, F1: 0.7701\n"
     ]
    },
    {
     "name": "stderr",
     "output_type": "stream",
     "text": [
      "Epoch 72/100: 100%|██████████| 4/4 [00:58<00:00, 14.54s/it, acc=0.754, f1=0.75, loss=0.373] \n"
     ]
    },
    {
     "name": "stdout",
     "output_type": "stream",
     "text": [
      "Epoch [72/100] - Loss: 0.3780, Acc: 0.7502, F1: 0.7516\n"
     ]
    },
    {
     "name": "stderr",
     "output_type": "stream",
     "text": [
      "Epoch 73/100: 100%|██████████| 4/4 [00:57<00:00, 14.46s/it, acc=0.763, f1=0.777, loss=0.37] \n"
     ]
    },
    {
     "name": "stdout",
     "output_type": "stream",
     "text": [
      "Epoch [73/100] - Loss: 0.3697, Acc: 0.7624, F1: 0.7686\n"
     ]
    },
    {
     "name": "stderr",
     "output_type": "stream",
     "text": [
      "Epoch 74/100: 100%|██████████| 4/4 [00:58<00:00, 14.71s/it, acc=0.774, f1=0.78, loss=0.363] \n"
     ]
    },
    {
     "name": "stdout",
     "output_type": "stream",
     "text": [
      "Epoch [74/100] - Loss: 0.3621, Acc: 0.7722, F1: 0.7858\n"
     ]
    },
    {
     "name": "stderr",
     "output_type": "stream",
     "text": [
      "Epoch 75/100: 100%|██████████| 4/4 [00:58<00:00, 14.65s/it, acc=0.777, f1=0.785, loss=0.353]\n"
     ]
    },
    {
     "name": "stdout",
     "output_type": "stream",
     "text": [
      "Epoch [75/100] - Loss: 0.3571, Acc: 0.7749, F1: 0.7884\n"
     ]
    },
    {
     "name": "stderr",
     "output_type": "stream",
     "text": [
      "Epoch 76/100: 100%|██████████| 4/4 [00:59<00:00, 14.80s/it, acc=0.785, f1=0.796, loss=0.355]\n"
     ]
    },
    {
     "name": "stdout",
     "output_type": "stream",
     "text": [
      "Epoch [76/100] - Loss: 0.3514, Acc: 0.7823, F1: 0.7892\n"
     ]
    },
    {
     "name": "stderr",
     "output_type": "stream",
     "text": [
      "Epoch 77/100: 100%|██████████| 4/4 [01:00<00:00, 15.02s/it, acc=0.797, f1=0.805, loss=0.334]\n"
     ]
    },
    {
     "name": "stdout",
     "output_type": "stream",
     "text": [
      "Epoch [77/100] - Loss: 0.3416, Acc: 0.7899, F1: 0.7947\n"
     ]
    },
    {
     "name": "stderr",
     "output_type": "stream",
     "text": [
      "Epoch 78/100: 100%|██████████| 4/4 [01:02<00:00, 15.74s/it, acc=0.789, f1=0.805, loss=0.35] \n"
     ]
    },
    {
     "name": "stdout",
     "output_type": "stream",
     "text": [
      "Epoch [78/100] - Loss: 0.3535, Acc: 0.7818, F1: 0.7957\n"
     ]
    },
    {
     "name": "stderr",
     "output_type": "stream",
     "text": [
      "Epoch 79/100: 100%|██████████| 4/4 [01:01<00:00, 15.49s/it, acc=0.778, f1=0.779, loss=0.379]\n"
     ]
    },
    {
     "name": "stdout",
     "output_type": "stream",
     "text": [
      "Epoch [79/100] - Loss: 0.3711, Acc: 0.7876, F1: 0.7934\n"
     ]
    },
    {
     "name": "stderr",
     "output_type": "stream",
     "text": [
      "Epoch 80/100: 100%|██████████| 4/4 [00:58<00:00, 14.75s/it, acc=0.757, f1=0.794, loss=0.401]\n"
     ]
    },
    {
     "name": "stdout",
     "output_type": "stream",
     "text": [
      "Epoch [80/100] - Loss: 0.4059, Acc: 0.7420, F1: 0.7855\n"
     ]
    },
    {
     "name": "stderr",
     "output_type": "stream",
     "text": [
      "Epoch 81/100: 100%|██████████| 4/4 [00:58<00:00, 14.67s/it, acc=0.699, f1=0.621, loss=0.429]\n"
     ]
    },
    {
     "name": "stdout",
     "output_type": "stream",
     "text": [
      "Epoch [81/100] - Loss: 0.4097, Acc: 0.7484, F1: 0.7225\n"
     ]
    },
    {
     "name": "stderr",
     "output_type": "stream",
     "text": [
      "Epoch 82/100: 100%|██████████| 4/4 [00:58<00:00, 14.62s/it, acc=0.689, f1=0.612, loss=0.429]\n"
     ]
    },
    {
     "name": "stdout",
     "output_type": "stream",
     "text": [
      "Epoch [82/100] - Loss: 0.4330, Acc: 0.6917, F1: 0.6089\n"
     ]
    },
    {
     "name": "stderr",
     "output_type": "stream",
     "text": [
      "Epoch 83/100: 100%|██████████| 4/4 [00:59<00:00, 14.94s/it, acc=0.704, f1=0.748, loss=0.425]\n"
     ]
    },
    {
     "name": "stdout",
     "output_type": "stream",
     "text": [
      "Epoch [83/100] - Loss: 0.4282, Acc: 0.6930, F1: 0.6569\n"
     ]
    },
    {
     "name": "stderr",
     "output_type": "stream",
     "text": [
      "Epoch 84/100: 100%|██████████| 4/4 [01:03<00:00, 15.99s/it, acc=0.7, f1=0.629, loss=0.419]  \n"
     ]
    },
    {
     "name": "stdout",
     "output_type": "stream",
     "text": [
      "Epoch [84/100] - Loss: 0.4240, Acc: 0.6985, F1: 0.6358\n"
     ]
    },
    {
     "name": "stderr",
     "output_type": "stream",
     "text": [
      "Epoch 85/100: 100%|██████████| 4/4 [01:09<00:00, 17.49s/it, acc=0.697, f1=0.604, loss=0.422]\n"
     ]
    },
    {
     "name": "stdout",
     "output_type": "stream",
     "text": [
      "Epoch [85/100] - Loss: 0.4186, Acc: 0.7023, F1: 0.6118\n"
     ]
    },
    {
     "name": "stderr",
     "output_type": "stream",
     "text": [
      "Epoch 86/100: 100%|██████████| 4/4 [01:14<00:00, 18.63s/it, acc=0.714, f1=0.762, loss=0.414]\n"
     ]
    },
    {
     "name": "stdout",
     "output_type": "stream",
     "text": [
      "Epoch [86/100] - Loss: 0.4151, Acc: 0.7056, F1: 0.6605\n"
     ]
    },
    {
     "name": "stderr",
     "output_type": "stream",
     "text": [
      "Epoch 87/100: 100%|██████████| 4/4 [01:17<00:00, 19.49s/it, acc=0.724, f1=0.77, loss=0.412] \n"
     ]
    },
    {
     "name": "stdout",
     "output_type": "stream",
     "text": [
      "Epoch [87/100] - Loss: 0.4117, Acc: 0.7195, F1: 0.7688\n"
     ]
    },
    {
     "name": "stderr",
     "output_type": "stream",
     "text": [
      "Epoch 88/100: 100%|██████████| 4/4 [01:21<00:00, 20.36s/it, acc=0.712, f1=0.763, loss=0.406]\n"
     ]
    },
    {
     "name": "stdout",
     "output_type": "stream",
     "text": [
      "Epoch [88/100] - Loss: 0.4085, Acc: 0.7192, F1: 0.7678\n"
     ]
    },
    {
     "name": "stderr",
     "output_type": "stream",
     "text": [
      "Epoch 89/100: 100%|██████████| 4/4 [01:22<00:00, 20.69s/it, acc=0.718, f1=0.636, loss=0.403]\n"
     ]
    },
    {
     "name": "stdout",
     "output_type": "stream",
     "text": [
      "Epoch [89/100] - Loss: 0.4052, Acc: 0.7167, F1: 0.6731\n"
     ]
    },
    {
     "name": "stderr",
     "output_type": "stream",
     "text": [
      "Epoch 90/100: 100%|██████████| 4/4 [01:23<00:00, 20.77s/it, acc=0.71, f1=0.649, loss=0.398] \n"
     ]
    },
    {
     "name": "stdout",
     "output_type": "stream",
     "text": [
      "Epoch [90/100] - Loss: 0.4017, Acc: 0.7125, F1: 0.6412\n"
     ]
    },
    {
     "name": "stderr",
     "output_type": "stream",
     "text": [
      "Epoch 91/100: 100%|██████████| 4/4 [01:13<00:00, 18.42s/it, acc=0.73, f1=0.771, loss=0.396] \n"
     ]
    },
    {
     "name": "stdout",
     "output_type": "stream",
     "text": [
      "Epoch [91/100] - Loss: 0.3981, Acc: 0.7254, F1: 0.7610\n"
     ]
    },
    {
     "name": "stderr",
     "output_type": "stream",
     "text": [
      "Epoch 92/100: 100%|██████████| 4/4 [01:08<00:00, 17.16s/it, acc=0.716, f1=0.685, loss=0.393]\n"
     ]
    },
    {
     "name": "stdout",
     "output_type": "stream",
     "text": [
      "Epoch [92/100] - Loss: 0.3941, Acc: 0.7268, F1: 0.7392\n"
     ]
    },
    {
     "name": "stderr",
     "output_type": "stream",
     "text": [
      "Epoch 93/100: 100%|██████████| 4/4 [01:06<00:00, 16.66s/it, acc=0.724, f1=0.692, loss=0.388]\n"
     ]
    },
    {
     "name": "stdout",
     "output_type": "stream",
     "text": [
      "Epoch [93/100] - Loss: 0.3892, Acc: 0.7219, F1: 0.6817\n"
     ]
    },
    {
     "name": "stderr",
     "output_type": "stream",
     "text": [
      "Epoch 94/100: 100%|██████████| 4/4 [01:21<00:00, 20.44s/it, acc=0.735, f1=0.762, loss=0.383]\n"
     ]
    },
    {
     "name": "stdout",
     "output_type": "stream",
     "text": [
      "Epoch [94/100] - Loss: 0.3851, Acc: 0.7393, F1: 0.7595\n"
     ]
    },
    {
     "name": "stderr",
     "output_type": "stream",
     "text": [
      "Epoch 95/100: 100%|██████████| 4/4 [01:01<00:00, 15.40s/it, acc=0.737, f1=0.72, loss=0.377] \n"
     ]
    },
    {
     "name": "stdout",
     "output_type": "stream",
     "text": [
      "Epoch [95/100] - Loss: 0.3795, Acc: 0.7383, F1: 0.7420\n"
     ]
    },
    {
     "name": "stderr",
     "output_type": "stream",
     "text": [
      "Epoch 96/100: 100%|██████████| 4/4 [01:00<00:00, 15.07s/it, acc=0.738, f1=0.758, loss=0.392]\n"
     ]
    },
    {
     "name": "stdout",
     "output_type": "stream",
     "text": [
      "Epoch [96/100] - Loss: 0.3855, Acc: 0.7367, F1: 0.7379\n"
     ]
    },
    {
     "name": "stderr",
     "output_type": "stream",
     "text": [
      "Epoch 97/100: 100%|██████████| 4/4 [00:57<00:00, 14.43s/it, acc=0.739, f1=0.769, loss=0.39] \n"
     ]
    },
    {
     "name": "stdout",
     "output_type": "stream",
     "text": [
      "Epoch [97/100] - Loss: 0.3855, Acc: 0.7446, F1: 0.7740\n"
     ]
    },
    {
     "name": "stderr",
     "output_type": "stream",
     "text": [
      "Epoch 98/100: 100%|██████████| 4/4 [00:58<00:00, 14.51s/it, acc=0.769, f1=0.741, loss=0.36] \n"
     ]
    },
    {
     "name": "stdout",
     "output_type": "stream",
     "text": [
      "Epoch [98/100] - Loss: 0.3810, Acc: 0.7433, F1: 0.7238\n"
     ]
    },
    {
     "name": "stderr",
     "output_type": "stream",
     "text": [
      "Epoch 99/100: 100%|██████████| 4/4 [00:57<00:00, 14.34s/it, acc=0.775, f1=0.797, loss=0.359]\n"
     ]
    },
    {
     "name": "stdout",
     "output_type": "stream",
     "text": [
      "Epoch [99/100] - Loss: 0.3659, Acc: 0.7706, F1: 0.7783\n"
     ]
    },
    {
     "name": "stderr",
     "output_type": "stream",
     "text": [
      "Epoch 100/100: 100%|██████████| 4/4 [00:57<00:00, 14.29s/it, acc=0.785, f1=0.794, loss=0.352]"
     ]
    },
    {
     "name": "stdout",
     "output_type": "stream",
     "text": [
      "Epoch [100/100] - Loss: 0.3550, Acc: 0.7702, F1: 0.7886\n"
     ]
    },
    {
     "name": "stderr",
     "output_type": "stream",
     "text": [
      "\n"
     ]
    }
   ],
   "source": [
    "import tqdm\n",
    "train_losses = []\n",
    "train_accuracies = []\n",
    "train_f1_scores = []\n",
    "for epoch in range(num_epochs):\n",
    "    epoch_losses = []\n",
    "    epoch_accuracies = []\n",
    "    epoch_f1s = []\n",
    "    progress_bar = tqdm.tqdm(train_loader, desc=f\"Epoch {epoch+1}/{num_epochs}\")  \n",
    "    for inputs, targets in progress_bar:\n",
    "        inputs, targets = inputs.to(torch.int64), targets.to(torch.float32)\n",
    "        outputs = model(inputs).squeeze()\n",
    "        loss = criterion(outputs, targets)\n",
    "        optimizer.zero_grad()\n",
    "        loss.backward()\n",
    "        optimizer.step()\n",
    "        probs = torch.sigmoid(outputs)\n",
    "        preds = (probs >= 0.5).float()\n",
    "        accuracy = (preds == targets).float().mean().item()\n",
    "        f1 = f1_score(targets.cpu().numpy(), preds.cpu().numpy(), zero_division=1)\n",
    "        epoch_losses.append(loss.item())\n",
    "        epoch_accuracies.append(accuracy)\n",
    "        epoch_f1s.append(f1)\n",
    "        progress_bar.set_postfix(loss=loss.item(), acc=accuracy, f1=f1)\n",
    "    train_losses.append(sum(epoch_losses) / len(epoch_losses))\n",
    "    train_accuracies.append(sum(epoch_accuracies) / len(epoch_accuracies))\n",
    "    train_f1_scores.append(sum(epoch_f1s) / len(epoch_f1s))\n",
    "    print(f\"Epoch [{epoch+1}/{num_epochs}] - Loss: {train_losses[-1]:.4f}, Acc: {train_accuracies[-1]:.4f}, F1: {train_f1_scores[-1]:.4f}\")\n"
   ]
  },
  {
   "cell_type": "markdown",
   "metadata": {},
   "source": [
    "# **Train graphs**"
   ]
  },
  {
   "cell_type": "code",
   "execution_count": 77,
   "metadata": {},
   "outputs": [
    {
     "data": {
      "image/png": "[encoded data removed]",
      "text/plain": [
       "<Figure size 640x480 with 1 Axes>"
      ]
     },
     "metadata": {},
     "output_type": "display_data"
    }
   ],
   "source": [
    "plt.style.use(\"dark_background\")\n",
    "plt.plot([ i for i in range(1,101)] , train_accuracies , color=\"#00fff4\", linewidth=7)\n",
    "plt.plot([ i for i in range(1,101)] , train_accuracies , color=\"black\", linewidth=3)\n",
    "plt.title(\"RNN - train_accuracies\")\n",
    "plt.xlabel(\"epoch\")\n",
    "plt.ylabel(\"accuracy\")\n",
    "plt.show()"
   ]
  },
  {
   "cell_type": "code",
   "execution_count": 79,
   "metadata": {},
   "outputs": [
    {
     "data": {
      "image/png": "[encoded data removed]",
      "text/plain": [
       "<Figure size 640x480 with 1 Axes>"
      ]
     },
     "metadata": {},
     "output_type": "display_data"
    }
   ],
   "source": [
    "plt.style.use(\"dark_background\")\n",
    "plt.plot([ i for i in range(1,101)] , train_f1_scores , color=\"#00fff4\", linewidth=5)\n",
    "plt.plot([ i for i in range(1,101)] , train_f1_scores , color=\"black\", linewidth=3)\n",
    "plt.title(\"RNN - train_F1 Scores\")\n",
    "plt.xlabel(\"epoch\")\n",
    "plt.ylabel(\"score\")\n",
    "plt.show()"
   ]
  },
  {
   "cell_type": "code",
   "execution_count": 81,
   "metadata": {},
   "outputs": [
    {
     "data": {
      "image/png": "[encoded data removed]",
      "text/plain": [
       "<Figure size 640x480 with 1 Axes>"
      ]
     },
     "metadata": {},
     "output_type": "display_data"
    }
   ],
   "source": [
    "plt.style.use(\"dark_background\")\n",
    "plt.plot([ i for i in range(1,101)] , train_losses , color=\"red\", linewidth=6)\n",
    "plt.plot([ i for i in range(1,101)] , train_losses , color=\"black\", linewidth=3)\n",
    "plt.title(\"RNN - train losses\")\n",
    "plt.xlabel(\"epoch\")\n",
    "plt.ylabel(\"lose\")\n",
    "plt.show()"
   ]
  },
  {
   "cell_type": "markdown",
   "metadata": {},
   "source": [
    "# **Test Data**"
   ]
  },
  {
   "cell_type": "code",
   "execution_count": 85,
   "metadata": {},
   "outputs": [
    {
     "name": "stdout",
     "output_type": "stream",
     "text": [
      "Test Loss: 1.4451, Test Acc: 0.5209, Test F1: 0.5383\n"
     ]
    }
   ],
   "source": [
    "def evaluate(model, dataloader, criterion):\n",
    "    model.eval()\n",
    "    test_loss = 0.0\n",
    "    correct = 0\n",
    "    total = 0\n",
    "    all_preds = []\n",
    "    all_targets = []\n",
    "    with torch.no_grad():\n",
    "        for inputs, targets in dataloader:\n",
    "            inputs, targets = inputs.to(torch.int64), targets.to(torch.float32)\n",
    "            outputs = model(inputs).squeeze()\n",
    "            loss = criterion(outputs, targets)\n",
    "            test_loss += loss.item()\n",
    "            probs = torch.sigmoid(outputs)\n",
    "            preds = (probs >= 0.5).float()\n",
    "            all_preds.extend(preds.cpu().numpy())\n",
    "            all_targets.extend(targets.cpu().numpy())\n",
    "            correct += (preds == targets).sum().item()\n",
    "            total += targets.size(0)\n",
    "    avg_loss = test_loss / len(dataloader)\n",
    "    accuracy = correct / total\n",
    "    f1 = f1_score(all_targets, all_preds, zero_division=1)\n",
    "    print(f\"Test Loss: {avg_loss:.4f}, Test Acc: {accuracy:.4f}, Test F1: {f1:.4f}\")\n",
    "\n",
    "evaluate(model, test_loader, criterion)"
   ]
  },
  {
   "cell_type": "code",
   "execution_count": 87,
   "metadata": {},
   "outputs": [
    {
     "name": "stdout",
     "output_type": "stream",
     "text": [
      "Test Loss: 1.4451, Test Acc: 0.5209, Test F1: 0.5383\n"
     ]
    },
    {
     "data": {
      "image/png": "[encoded data removed]",
      "text/plain": [
       "<Figure size 500x400 with 2 Axes>"
      ]
     },
     "metadata": {},
     "output_type": "display_data"
    }
   ],
   "source": [
    "import seaborn as sns\n",
    "def evaluate(model, dataloader, criterion):\n",
    "    model.eval()\n",
    "    test_loss = 0.0\n",
    "    correct = 0\n",
    "    total = 0\n",
    "    all_preds = []\n",
    "    all_targets = []\n",
    "    with torch.no_grad():\n",
    "        for inputs, targets in dataloader:\n",
    "            inputs, targets = inputs.to(torch.int64), targets.to(torch.float32)\n",
    "            outputs = model(inputs).squeeze()\n",
    "            loss = criterion(outputs, targets)\n",
    "            test_loss += loss.item()\n",
    "            probs = torch.sigmoid(outputs)\n",
    "            preds = (probs >= 0.5).float()\n",
    "            all_preds.extend(preds.cpu().numpy())\n",
    "            all_targets.extend(targets.cpu().numpy())\n",
    "            correct += (preds == targets).sum().item()\n",
    "            total += targets.size(0)\n",
    "    avg_loss = test_loss / len(dataloader)\n",
    "    accuracy = correct / total\n",
    "    f1 = f1_score(all_targets, all_preds, zero_division=1)\n",
    "    print(f\"Test Loss: {avg_loss:.4f}, Test Acc: {accuracy:.4f}, Test F1: {f1:.4f}\")\n",
    "    return avg_loss, accuracy, f1, np.array(all_targets), np.array(all_preds)\n",
    "test_loss, test_acc, test_f1, y_true, y_pred = evaluate(model, test_loader, criterion)\n",
    "cm = confusion_matrix(y_true, y_pred)\n",
    "plt.figure(figsize=(5, 4))\n",
    "sns.heatmap(cm, annot=True, fmt=\"d\", cmap=\"Blues\", xticklabels=[\"Negative\", \"Positive\"], yticklabels=[\"Negative\", \"Positive\"])\n",
    "plt.xlabel(\"Predicted Label\")\n",
    "plt.ylabel(\"True Label\")\n",
    "plt.title(\"Confusion Matrix\")\n",
    "plt.show()"
   ]
  },
  {
   "cell_type": "code",
   "execution_count": 88,
   "metadata": {},
   "outputs": [],
   "source": [
    "torch.save(model.state_dict(), \"model_weights_RNN.pth\")"
   ]
  }
 ],
 "metadata": {
  "kernelspec": {
   "display_name": "dlib_venv",
   "language": "python",
   "name": "python3"
  },
  "language_info": {
   "codemirror_mode": {
    "name": "ipython",
    "version": 3
   },
   "file_extension": ".py",
   "mimetype": "text/x-python",
   "name": "python",
   "nbconvert_exporter": "python",
   "pygments_lexer": "ipython3",
   "version": "3.12.9"
  }
 },
 "nbformat": 4,
 "nbformat_minor": 2
}
