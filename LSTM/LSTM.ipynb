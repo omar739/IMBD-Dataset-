{
 "cells": [
  {
   "cell_type": "markdown",
   "metadata": {},
   "source": [
    "# **Import , and Load Dataset**"
   ]
  },
  {
   "cell_type": "code",
   "execution_count": 1,
   "metadata": {},
   "outputs": [],
   "source": [
    "import numpy as np\n",
    "import pandas as pd\n",
    "import matplotlib.pyplot as plt\n",
    "import os\n",
    "import torch\n",
    "import torch.nn as nn\n",
    "import torch.optim as optim \n",
    "import torch.functional as F\n",
    "from torch.utils.data import Dataset, DataLoader\n",
    "from nltk import word_tokenize , sent_tokenize , WordNetLemmatizer\n",
    "from nltk.corpus import stopwords\n",
    "import string\n",
    "from sklearn.model_selection import train_test_split\n",
    "from sklearn.metrics import f1_score ,  confusion_matrix"
   ]
  },
  {
   "cell_type": "code",
   "execution_count": 2,
   "metadata": {},
   "outputs": [
    {
     "name": "stdout",
     "output_type": "stream",
     "text": [
      "['BJT.txt', 'IMBD-Dataset-', 'IMDB Dataset.csv', 'model_weights_RNN.pth', 'Mosfet.txt', 'Solid state devices.txt', 'Transistor as amplifier.txt']\n"
     ]
    }
   ],
   "source": [
    "os.chdir(\"D:/NLP Text data\")\n",
    "print(os.listdir())"
   ]
  },
  {
   "cell_type": "code",
   "execution_count": 3,
   "metadata": {},
   "outputs": [],
   "source": [
    "data = pd.read_csv('IMDB Dataset.csv')"
   ]
  },
  {
   "cell_type": "markdown",
   "metadata": {},
   "source": [
    "# **preprocessing text**"
   ]
  },
  {
   "cell_type": "code",
   "execution_count": 4,
   "metadata": {},
   "outputs": [
    {
     "name": "stdout",
     "output_type": "stream",
     "text": [
      "(50000, 3)\n"
     ]
    }
   ],
   "source": [
    "def preprocessing(text) :\n",
    "    punc = set(string.punctuation)\n",
    "    stop_words = set(stopwords.words(\"english\"))\n",
    "    lemmatizer = WordNetLemmatizer()\n",
    "    big_tokens = sent_tokenize(str(text))\n",
    "    preprocessed = []\n",
    "    for i in big_tokens :\n",
    "        small_tokens = word_tokenize(i)\n",
    "        filterd = [ lemmatizer.lemmatize(i.lower()) for i in small_tokens if ( i not in stop_words) and ( i not in punc) and (i.isdigit() == 0)]\n",
    "        preprocessed.append(\" \".join(filterd))\n",
    "    return \" \".join(preprocessed)\n",
    "data[\"review_processed\"] = data['review'].apply(preprocessing)\n",
    "print(data.shape)"
   ]
  },
  {
   "cell_type": "markdown",
   "metadata": {},
   "source": [
    "# **Convert Words to Numerical Sequences**"
   ]
  },
  {
   "cell_type": "code",
   "execution_count": 5,
   "metadata": {},
   "outputs": [
    {
     "data": {
      "text/plain": [
       "0        None\n",
       "1        None\n",
       "2        None\n",
       "3        None\n",
       "4        None\n",
       "         ... \n",
       "49995    None\n",
       "49996    None\n",
       "49997    None\n",
       "49998    None\n",
       "49999    None\n",
       "Name: review_processed, Length: 50000, dtype: object"
      ]
     },
     "execution_count": 5,
     "metadata": {},
     "output_type": "execute_result"
    }
   ],
   "source": [
    "all_text = []\n",
    "def alltext(text) :\n",
    "    all_text.append(word_tokenize(text))\n",
    "data['review_processed'].apply(alltext)"
   ]
  },
  {
   "cell_type": "code",
   "execution_count": 6,
   "metadata": {},
   "outputs": [
    {
     "name": "stdout",
     "output_type": "stream",
     "text": [
      "number of words in list datastructure : 7112983\n",
      "number of words in Set datastructure  : 143309\n",
      "this mean the list is larger than set with : 49 scaler\n"
     ]
    }
   ],
   "source": [
    "all_text_words = []\n",
    "for i in range(1,50001):\n",
    "    all_text_words += all_text[i-1]\n",
    "print(\"number of words in list datastructure :\",len(all_text_words))\n",
    "print(\"number of words in Set datastructure  :\",len(set(all_text_words)))\n",
    "print(\"this mean the list is larger than set with :\",int(len(all_text_words)/len(set(all_text_words))),\"scaler\")"
   ]
  },
  {
   "cell_type": "code",
   "execution_count": 40,
   "metadata": {},
   "outputs": [
    {
     "name": "stdout",
     "output_type": "stream",
     "text": [
      "143309\n",
      "143309\n"
     ]
    }
   ],
   "source": [
    "all_text_words = set(all_text_words)\n",
    "numbers = [ i for i in range(len(all_text_words))]\n",
    "word_to_idx = dict()\n",
    "idx_to_word = dict()\n",
    "for i , j in zip(all_text_words,numbers) :\n",
    "    word_to_idx.update({i:j})\n",
    "    idx_to_word.update({j:i})\n",
    "print(len(word_to_idx))\n",
    "print(len(idx_to_word))"
   ]
  },
  {
   "cell_type": "code",
   "execution_count": 41,
   "metadata": {},
   "outputs": [
    {
     "name": "stdout",
     "output_type": "stream",
     "text": [
      "                                    review_processed  \\\n",
      "0  one reviewer mentioned watching oz episode 'll...   \n",
      "1  a wonderful little production br br the filmin...   \n",
      "2  i thought wonderful way spend time hot summer ...   \n",
      "3  basically 's family little boy jake think 's z...   \n",
      "\n",
      "                                            sequence  \\\n",
      "0  [116149, 122674, 130478, 119600, 139459, 5054,...   \n",
      "1  [27678, 23763, 126994, 108715, 120565, 120565,...   \n",
      "2  [140401, 77768, 23763, 34781, 23181, 80257, 48...   \n",
      "3  [85339, 134647, 112500, 126994, 11963, 80612, ...   \n",
      "\n",
      "                                     padded_sequence  \n",
      "0  [89113, 102127, 117769, 96023, 135720, 10129, ...  \n",
      "1  [55554, 47618, 110820, 74213, 97963, 97963, 63...  \n",
      "2  [137547, 12482, 47618, 69728, 46466, 17470, 97...  \n",
      "3  [27628, 126022, 81709, 110820, 23878, 18212, 2...  \n"
     ]
    }
   ],
   "source": [
    "def add_seqence(text) :\n",
    "    tokenss = word_tokenize(text)\n",
    "    converted = [ word_to_idx.get(i) for i in tokenss]\n",
    "    return converted\n",
    "data[\"sequence\"] = data[\"review_processed\"].apply(add_seqence)\n",
    "print(data.iloc[:4,2:])"
   ]
  },
  {
   "cell_type": "markdown",
   "metadata": {},
   "source": [
    "# **Select fixed sequence lenght to train**"
   ]
  },
  {
   "cell_type": "code",
   "execution_count": 42,
   "metadata": {},
   "outputs": [
    {
     "name": "stdout",
     "output_type": "stream",
     "text": [
      "50000\n",
      "50000\n"
     ]
    }
   ],
   "source": [
    "def pad_sequence(seq, seq_length=142):\n",
    "    if len(seq) > seq_length:\n",
    "        return seq[:seq_length]\n",
    "    else:\n",
    "        return seq + [0] * (seq_length - len(seq))\n",
    "data[\"padded_sequence\"] = data[\"sequence\"].apply(pad_sequence)\n",
    "x = np.array(data['padded_sequence'].tolist())\n",
    "y = np.array(data['sentiment'].map({\"positive\": 1, \"negative\": 0}))\n",
    "print(len(x))\n",
    "print(len(y))"
   ]
  },
  {
   "cell_type": "markdown",
   "metadata": {},
   "source": [
    "# **Train model phase**"
   ]
  },
  {
   "cell_type": "code",
   "execution_count": 51,
   "metadata": {},
   "outputs": [
    {
     "name": "stdout",
     "output_type": "stream",
     "text": [
      "Training set size: 40000\n",
      "Test set size: 10000\n"
     ]
    }
   ],
   "source": [
    "class IMDBDataset(Dataset):\n",
    "    def __init__(self, X, y):\n",
    "        self.X = torch.tensor(X, dtype=torch.int64)\n",
    "        self.y = torch.tensor(y, dtype=torch.int64)\n",
    "\n",
    "    def __len__(self):\n",
    "        return len(self.X)\n",
    "\n",
    "    def __getitem__(self, index):\n",
    "        return self.X[index], self.y[index]\n",
    "X_train, X_test, y_train, y_test = train_test_split(x, y, test_size=0.2, random_state=42)\n",
    "train_dataset = IMDBDataset(X_train, y_train)\n",
    "test_dataset = IMDBDataset(X_test, y_test)\n",
    "train_loader = DataLoader(train_dataset, batch_size=1000, shuffle=True)\n",
    "test_loader = DataLoader(test_dataset, batch_size=1000, shuffle=False)\n",
    "\n",
    "print(\"Training set size:\", len(train_dataset))\n",
    "print(\"Test set size:\", len(test_dataset))"
   ]
  },
  {
   "cell_type": "code",
   "execution_count": 44,
   "metadata": {},
   "outputs": [],
   "source": [
    "class SentimentLSTM(nn.Module):\n",
    "    def __init__(self, vocab_size, embed_size, hidden_size, output_size, num_layers):\n",
    "        super(SentimentLSTM, self).__init__()\n",
    "        self.embedding = nn.Embedding(vocab_size, embed_size, padding_idx=0)\n",
    "        self.lstm = nn.LSTM(embed_size, hidden_size, num_layers, batch_first=True)\n",
    "        self.fc = nn.Linear(hidden_size, output_size)\n",
    "    def forward(self, x):\n",
    "        x = self.embedding(x) \n",
    "        h0 = torch.zeros(self.lstm.num_layers, x.size(0), self.lstm.hidden_size)\n",
    "        c0 = torch.zeros(self.lstm.num_layers, x.size(0), self.lstm.hidden_size)\n",
    "        out, _ = self.lstm(x, (h0, c0)) \n",
    "        out = self.fc(out[:, -1, :])\n",
    "        return out\n",
    "vocab_size = 143309 + 1\n",
    "embed_size = 350\n",
    "hidden_size = 128\n",
    "output_size = 1\n",
    "num_layers = 2\n",
    "num_epochs = 50\n",
    "learning_rate = 0.001\n",
    "model = SentimentLSTM(vocab_size, embed_size, hidden_size, output_size, num_layers)\n",
    "criterion = nn.BCEWithLogitsLoss() \n",
    "optimizer = optim.Adam(model.parameters(), lr=learning_rate)"
   ]
  },
  {
   "cell_type": "code",
   "execution_count": 45,
   "metadata": {},
   "outputs": [
    {
     "name": "stderr",
     "output_type": "stream",
     "text": [
      "Epoch 1/50: 100%|██████████| 40/40 [03:01<00:00,  4.54s/it, acc=0.66, f1=0.597, loss=0.623]  \n"
     ]
    },
    {
     "name": "stdout",
     "output_type": "stream",
     "text": [
      "Epoch [1/50] - Loss: 0.6865, Acc: 0.5285, F1: 0.4066\n"
     ]
    },
    {
     "name": "stderr",
     "output_type": "stream",
     "text": [
      "Epoch 2/50: 100%|██████████| 40/40 [02:54<00:00,  4.37s/it, acc=0.691, f1=0.655, loss=0.625]\n"
     ]
    },
    {
     "name": "stdout",
     "output_type": "stream",
     "text": [
      "Epoch [2/50] - Loss: 0.6539, Acc: 0.6629, F1: 0.6188\n"
     ]
    },
    {
     "name": "stderr",
     "output_type": "stream",
     "text": [
      "Epoch 3/50: 100%|██████████| 40/40 [02:31<00:00,  3.78s/it, acc=0.651, f1=0.72, loss=0.723] \n"
     ]
    },
    {
     "name": "stdout",
     "output_type": "stream",
     "text": [
      "Epoch [3/50] - Loss: 0.6217, Acc: 0.6839, F1: 0.6454\n"
     ]
    },
    {
     "name": "stderr",
     "output_type": "stream",
     "text": [
      "Epoch 4/50: 100%|██████████| 40/40 [02:25<00:00,  3.63s/it, acc=0.694, f1=0.681, loss=0.604]\n"
     ]
    },
    {
     "name": "stdout",
     "output_type": "stream",
     "text": [
      "Epoch [4/50] - Loss: 0.6173, Acc: 0.6995, F1: 0.7193\n"
     ]
    },
    {
     "name": "stderr",
     "output_type": "stream",
     "text": [
      "Epoch 5/50: 100%|██████████| 40/40 [02:26<00:00,  3.66s/it, acc=0.561, f1=0.646, loss=0.676]\n"
     ]
    },
    {
     "name": "stdout",
     "output_type": "stream",
     "text": [
      "Epoch [5/50] - Loss: 0.6478, Acc: 0.6404, F1: 0.6446\n"
     ]
    },
    {
     "name": "stderr",
     "output_type": "stream",
     "text": [
      "Epoch 6/50: 100%|██████████| 40/40 [02:24<00:00,  3.62s/it, acc=0.64, f1=0.713, loss=0.653] \n"
     ]
    },
    {
     "name": "stdout",
     "output_type": "stream",
     "text": [
      "Epoch [6/50] - Loss: 0.6441, Acc: 0.6549, F1: 0.6907\n"
     ]
    },
    {
     "name": "stderr",
     "output_type": "stream",
     "text": [
      "Epoch 7/50: 100%|██████████| 40/40 [02:25<00:00,  3.64s/it, acc=0.711, f1=0.73, loss=0.589] \n"
     ]
    },
    {
     "name": "stdout",
     "output_type": "stream",
     "text": [
      "Epoch [7/50] - Loss: 0.6047, Acc: 0.6963, F1: 0.7225\n"
     ]
    },
    {
     "name": "stderr",
     "output_type": "stream",
     "text": [
      "Epoch 8/50: 100%|██████████| 40/40 [02:24<00:00,  3.61s/it, acc=0.685, f1=0.591, loss=0.666]\n"
     ]
    },
    {
     "name": "stdout",
     "output_type": "stream",
     "text": [
      "Epoch [8/50] - Loss: 0.5845, Acc: 0.7269, F1: 0.7232\n"
     ]
    },
    {
     "name": "stderr",
     "output_type": "stream",
     "text": [
      "Epoch 9/50: 100%|██████████| 40/40 [02:25<00:00,  3.64s/it, acc=0.716, f1=0.673, loss=0.568]\n"
     ]
    },
    {
     "name": "stdout",
     "output_type": "stream",
     "text": [
      "Epoch [9/50] - Loss: 0.6071, Acc: 0.6903, F1: 0.6230\n"
     ]
    },
    {
     "name": "stderr",
     "output_type": "stream",
     "text": [
      "Epoch 10/50: 100%|██████████| 40/40 [02:26<00:00,  3.66s/it, acc=0.734, f1=0.697, loss=0.567]\n"
     ]
    },
    {
     "name": "stdout",
     "output_type": "stream",
     "text": [
      "Epoch [10/50] - Loss: 0.5709, Acc: 0.7237, F1: 0.6877\n"
     ]
    },
    {
     "name": "stderr",
     "output_type": "stream",
     "text": [
      "Epoch 11/50: 100%|██████████| 40/40 [02:25<00:00,  3.65s/it, acc=0.75, f1=0.733, loss=0.549] \n"
     ]
    },
    {
     "name": "stdout",
     "output_type": "stream",
     "text": [
      "Epoch [11/50] - Loss: 0.5476, Acc: 0.7489, F1: 0.7341\n"
     ]
    },
    {
     "name": "stderr",
     "output_type": "stream",
     "text": [
      "Epoch 12/50: 100%|██████████| 40/40 [02:22<00:00,  3.55s/it, acc=0.5, f1=0, loss=0.785]      \n"
     ]
    },
    {
     "name": "stdout",
     "output_type": "stream",
     "text": [
      "Epoch [12/50] - Loss: 0.7961, Acc: 0.6090, F1: 0.5325\n"
     ]
    },
    {
     "name": "stderr",
     "output_type": "stream",
     "text": [
      "Epoch 13/50: 100%|██████████| 40/40 [02:24<00:00,  3.61s/it, acc=0.539, f1=0.671, loss=0.692] \n"
     ]
    },
    {
     "name": "stdout",
     "output_type": "stream",
     "text": [
      "Epoch [13/50] - Loss: 0.7014, Acc: 0.5055, F1: 0.2952\n"
     ]
    },
    {
     "name": "stderr",
     "output_type": "stream",
     "text": [
      "Epoch 14/50: 100%|██████████| 40/40 [02:23<00:00,  3.59s/it, acc=0.561, f1=0.223, loss=0.689]\n"
     ]
    },
    {
     "name": "stdout",
     "output_type": "stream",
     "text": [
      "Epoch [14/50] - Loss: 0.6904, Acc: 0.5412, F1: 0.5033\n"
     ]
    },
    {
     "name": "stderr",
     "output_type": "stream",
     "text": [
      "Epoch 15/50: 100%|██████████| 40/40 [02:23<00:00,  3.58s/it, acc=0.558, f1=0.682, loss=0.685]\n"
     ]
    },
    {
     "name": "stdout",
     "output_type": "stream",
     "text": [
      "Epoch [15/50] - Loss: 0.6827, Acc: 0.6017, F1: 0.5251\n"
     ]
    },
    {
     "name": "stderr",
     "output_type": "stream",
     "text": [
      "Epoch 16/50: 100%|██████████| 40/40 [02:23<00:00,  3.58s/it, acc=0.513, f1=0.677, loss=0.691]  \n"
     ]
    },
    {
     "name": "stdout",
     "output_type": "stream",
     "text": [
      "Epoch [16/50] - Loss: 0.6840, Acc: 0.5501, F1: 0.4701\n"
     ]
    },
    {
     "name": "stderr",
     "output_type": "stream",
     "text": [
      "Epoch 17/50: 100%|██████████| 40/40 [02:22<00:00,  3.56s/it, acc=0.593, f1=0.706, loss=0.69]  \n"
     ]
    },
    {
     "name": "stdout",
     "output_type": "stream",
     "text": [
      "Epoch [17/50] - Loss: 0.6908, Acc: 0.5453, F1: 0.4460\n"
     ]
    },
    {
     "name": "stderr",
     "output_type": "stream",
     "text": [
      "Epoch 18/50: 100%|██████████| 40/40 [02:22<00:00,  3.55s/it, acc=0.553, f1=0.292, loss=0.69] \n"
     ]
    },
    {
     "name": "stdout",
     "output_type": "stream",
     "text": [
      "Epoch [18/50] - Loss: 0.6897, Acc: 0.5575, F1: 0.5437\n"
     ]
    },
    {
     "name": "stderr",
     "output_type": "stream",
     "text": [
      "Epoch 19/50: 100%|██████████| 40/40 [02:22<00:00,  3.56s/it, acc=0.56, f1=0.664, loss=0.688] \n"
     ]
    },
    {
     "name": "stdout",
     "output_type": "stream",
     "text": [
      "Epoch [19/50] - Loss: 0.6880, Acc: 0.5769, F1: 0.4471\n"
     ]
    },
    {
     "name": "stderr",
     "output_type": "stream",
     "text": [
      "Epoch 20/50: 100%|██████████| 40/40 [02:22<00:00,  3.57s/it, acc=0.691, f1=0.732, loss=0.685]\n"
     ]
    },
    {
     "name": "stdout",
     "output_type": "stream",
     "text": [
      "Epoch [20/50] - Loss: 0.6857, Acc: 0.5824, F1: 0.5531\n"
     ]
    },
    {
     "name": "stderr",
     "output_type": "stream",
     "text": [
      "Epoch 21/50: 100%|██████████| 40/40 [02:21<00:00,  3.54s/it, acc=0.609, f1=0.469, loss=0.68] \n"
     ]
    },
    {
     "name": "stdout",
     "output_type": "stream",
     "text": [
      "Epoch [21/50] - Loss: 0.6816, Acc: 0.6088, F1: 0.6085\n"
     ]
    },
    {
     "name": "stderr",
     "output_type": "stream",
     "text": [
      "Epoch 22/50: 100%|██████████| 40/40 [02:23<00:00,  3.59s/it, acc=0.75, f1=0.765, loss=0.665] \n"
     ]
    },
    {
     "name": "stdout",
     "output_type": "stream",
     "text": [
      "Epoch [22/50] - Loss: 0.6724, Acc: 0.6874, F1: 0.6843\n"
     ]
    },
    {
     "name": "stderr",
     "output_type": "stream",
     "text": [
      "Epoch 23/50: 100%|██████████| 40/40 [02:22<00:00,  3.56s/it, acc=0.717, f1=0.762, loss=0.597]\n"
     ]
    },
    {
     "name": "stdout",
     "output_type": "stream",
     "text": [
      "Epoch [23/50] - Loss: 0.6355, Acc: 0.7525, F1: 0.7404\n"
     ]
    },
    {
     "name": "stderr",
     "output_type": "stream",
     "text": [
      "Epoch 24/50: 100%|██████████| 40/40 [02:21<00:00,  3.55s/it, acc=0.797, f1=0.813, loss=0.498]\n"
     ]
    },
    {
     "name": "stdout",
     "output_type": "stream",
     "text": [
      "Epoch [24/50] - Loss: 0.5285, Acc: 0.7825, F1: 0.7783\n"
     ]
    },
    {
     "name": "stderr",
     "output_type": "stream",
     "text": [
      "Epoch 25/50: 100%|██████████| 40/40 [02:22<00:00,  3.55s/it, acc=0.847, f1=0.849, loss=0.416]\n"
     ]
    },
    {
     "name": "stdout",
     "output_type": "stream",
     "text": [
      "Epoch [25/50] - Loss: 0.4575, Acc: 0.8255, F1: 0.8222\n"
     ]
    },
    {
     "name": "stderr",
     "output_type": "stream",
     "text": [
      "Epoch 26/50: 100%|██████████| 40/40 [02:22<00:00,  3.56s/it, acc=0.879, f1=0.879, loss=0.348]\n"
     ]
    },
    {
     "name": "stdout",
     "output_type": "stream",
     "text": [
      "Epoch [26/50] - Loss: 0.3740, Acc: 0.8661, F1: 0.8659\n"
     ]
    },
    {
     "name": "stderr",
     "output_type": "stream",
     "text": [
      "Epoch 27/50: 100%|██████████| 40/40 [02:21<00:00,  3.54s/it, acc=0.887, f1=0.892, loss=0.334]\n"
     ]
    },
    {
     "name": "stdout",
     "output_type": "stream",
     "text": [
      "Epoch [27/50] - Loss: 0.3224, Acc: 0.8916, F1: 0.8912\n"
     ]
    },
    {
     "name": "stderr",
     "output_type": "stream",
     "text": [
      "Epoch 28/50: 100%|██████████| 40/40 [02:21<00:00,  3.55s/it, acc=0.907, f1=0.912, loss=0.288]\n"
     ]
    },
    {
     "name": "stdout",
     "output_type": "stream",
     "text": [
      "Epoch [28/50] - Loss: 0.2758, Acc: 0.9130, F1: 0.9126\n"
     ]
    },
    {
     "name": "stderr",
     "output_type": "stream",
     "text": [
      "Epoch 29/50: 100%|██████████| 40/40 [02:21<00:00,  3.54s/it, acc=0.918, f1=0.92, loss=0.248] \n"
     ]
    },
    {
     "name": "stdout",
     "output_type": "stream",
     "text": [
      "Epoch [29/50] - Loss: 0.2411, Acc: 0.9285, F1: 0.9282\n"
     ]
    },
    {
     "name": "stderr",
     "output_type": "stream",
     "text": [
      "Epoch 30/50: 100%|██████████| 40/40 [02:25<00:00,  3.64s/it, acc=0.939, f1=0.936, loss=0.214]\n"
     ]
    },
    {
     "name": "stdout",
     "output_type": "stream",
     "text": [
      "Epoch [30/50] - Loss: 0.2138, Acc: 0.9391, F1: 0.9387\n"
     ]
    },
    {
     "name": "stderr",
     "output_type": "stream",
     "text": [
      "Epoch 31/50: 100%|██████████| 40/40 [02:22<00:00,  3.55s/it, acc=0.948, f1=0.948, loss=0.183]\n"
     ]
    },
    {
     "name": "stdout",
     "output_type": "stream",
     "text": [
      "Epoch [31/50] - Loss: 0.1889, Acc: 0.9488, F1: 0.9486\n"
     ]
    },
    {
     "name": "stderr",
     "output_type": "stream",
     "text": [
      "Epoch 32/50: 100%|██████████| 40/40 [02:23<00:00,  3.58s/it, acc=0.951, f1=0.95, loss=0.182] \n"
     ]
    },
    {
     "name": "stdout",
     "output_type": "stream",
     "text": [
      "Epoch [32/50] - Loss: 0.1692, Acc: 0.9562, F1: 0.9560\n"
     ]
    },
    {
     "name": "stderr",
     "output_type": "stream",
     "text": [
      "Epoch 33/50: 100%|██████████| 40/40 [02:22<00:00,  3.56s/it, acc=0.954, f1=0.951, loss=0.17] \n"
     ]
    },
    {
     "name": "stdout",
     "output_type": "stream",
     "text": [
      "Epoch [33/50] - Loss: 0.1562, Acc: 0.9598, F1: 0.9596\n"
     ]
    },
    {
     "name": "stderr",
     "output_type": "stream",
     "text": [
      "Epoch 34/50: 100%|██████████| 40/40 [02:21<00:00,  3.55s/it, acc=0.961, f1=0.962, loss=0.155]\n"
     ]
    },
    {
     "name": "stdout",
     "output_type": "stream",
     "text": [
      "Epoch [34/50] - Loss: 0.1540, Acc: 0.9588, F1: 0.9586\n"
     ]
    },
    {
     "name": "stderr",
     "output_type": "stream",
     "text": [
      "Epoch 35/50: 100%|██████████| 40/40 [02:23<00:00,  3.59s/it, acc=0.971, f1=0.971, loss=0.127]\n"
     ]
    },
    {
     "name": "stdout",
     "output_type": "stream",
     "text": [
      "Epoch [35/50] - Loss: 0.1290, Acc: 0.9695, F1: 0.9694\n"
     ]
    },
    {
     "name": "stderr",
     "output_type": "stream",
     "text": [
      "Epoch 36/50: 100%|██████████| 40/40 [02:24<00:00,  3.62s/it, acc=0.982, f1=0.983, loss=0.0921]\n"
     ]
    },
    {
     "name": "stdout",
     "output_type": "stream",
     "text": [
      "Epoch [36/50] - Loss: 0.1182, Acc: 0.9732, F1: 0.9731\n"
     ]
    },
    {
     "name": "stderr",
     "output_type": "stream",
     "text": [
      "Epoch 37/50: 100%|██████████| 40/40 [02:25<00:00,  3.64s/it, acc=0.975, f1=0.976, loss=0.107] \n"
     ]
    },
    {
     "name": "stdout",
     "output_type": "stream",
     "text": [
      "Epoch [37/50] - Loss: 0.1095, Acc: 0.9759, F1: 0.9758\n"
     ]
    },
    {
     "name": "stderr",
     "output_type": "stream",
     "text": [
      "Epoch 38/50: 100%|██████████| 40/40 [02:25<00:00,  3.63s/it, acc=0.963, f1=0.963, loss=0.133] \n"
     ]
    },
    {
     "name": "stdout",
     "output_type": "stream",
     "text": [
      "Epoch [38/50] - Loss: 0.1230, Acc: 0.9683, F1: 0.9679\n"
     ]
    },
    {
     "name": "stderr",
     "output_type": "stream",
     "text": [
      "Epoch 39/50: 100%|██████████| 40/40 [02:26<00:00,  3.66s/it, acc=0.987, f1=0.988, loss=0.0729]\n"
     ]
    },
    {
     "name": "stdout",
     "output_type": "stream",
     "text": [
      "Epoch [39/50] - Loss: 0.1009, Acc: 0.9775, F1: 0.9774\n"
     ]
    },
    {
     "name": "stderr",
     "output_type": "stream",
     "text": [
      "Epoch 40/50: 100%|██████████| 40/40 [02:23<00:00,  3.58s/it, acc=0.982, f1=0.981, loss=0.0891]\n"
     ]
    },
    {
     "name": "stdout",
     "output_type": "stream",
     "text": [
      "Epoch [40/50] - Loss: 0.0928, Acc: 0.9807, F1: 0.9806\n"
     ]
    },
    {
     "name": "stderr",
     "output_type": "stream",
     "text": [
      "Epoch 41/50: 100%|██████████| 40/40 [02:23<00:00,  3.59s/it, acc=0.982, f1=0.981, loss=0.0854]\n"
     ]
    },
    {
     "name": "stdout",
     "output_type": "stream",
     "text": [
      "Epoch [41/50] - Loss: 0.0878, Acc: 0.9819, F1: 0.9819\n"
     ]
    },
    {
     "name": "stderr",
     "output_type": "stream",
     "text": [
      "Epoch 42/50: 100%|██████████| 40/40 [02:24<00:00,  3.62s/it, acc=0.987, f1=0.987, loss=0.0663]\n"
     ]
    },
    {
     "name": "stdout",
     "output_type": "stream",
     "text": [
      "Epoch [42/50] - Loss: 0.0828, Acc: 0.9833, F1: 0.9832\n"
     ]
    },
    {
     "name": "stderr",
     "output_type": "stream",
     "text": [
      "Epoch 43/50: 100%|██████████| 40/40 [02:23<00:00,  3.58s/it, acc=0.984, f1=0.983, loss=0.0793]\n"
     ]
    },
    {
     "name": "stdout",
     "output_type": "stream",
     "text": [
      "Epoch [43/50] - Loss: 0.0795, Acc: 0.9842, F1: 0.9842\n"
     ]
    },
    {
     "name": "stderr",
     "output_type": "stream",
     "text": [
      "Epoch 44/50: 100%|██████████| 40/40 [02:23<00:00,  3.59s/it, acc=0.98, f1=0.979, loss=0.0938] \n"
     ]
    },
    {
     "name": "stdout",
     "output_type": "stream",
     "text": [
      "Epoch [44/50] - Loss: 0.0780, Acc: 0.9845, F1: 0.9845\n"
     ]
    },
    {
     "name": "stderr",
     "output_type": "stream",
     "text": [
      "Epoch 45/50: 100%|██████████| 40/40 [02:22<00:00,  3.57s/it, acc=0.987, f1=0.986, loss=0.0706]\n"
     ]
    },
    {
     "name": "stdout",
     "output_type": "stream",
     "text": [
      "Epoch [45/50] - Loss: 0.0746, Acc: 0.9854, F1: 0.9853\n"
     ]
    },
    {
     "name": "stderr",
     "output_type": "stream",
     "text": [
      "Epoch 46/50: 100%|██████████| 40/40 [02:22<00:00,  3.56s/it, acc=0.992, f1=0.992, loss=0.0493]\n"
     ]
    },
    {
     "name": "stdout",
     "output_type": "stream",
     "text": [
      "Epoch [46/50] - Loss: 0.0712, Acc: 0.9862, F1: 0.9861\n"
     ]
    },
    {
     "name": "stderr",
     "output_type": "stream",
     "text": [
      "Epoch 47/50: 100%|██████████| 40/40 [02:23<00:00,  3.60s/it, acc=0.984, f1=0.984, loss=0.078] \n"
     ]
    },
    {
     "name": "stdout",
     "output_type": "stream",
     "text": [
      "Epoch [47/50] - Loss: 0.0683, Acc: 0.9870, F1: 0.9869\n"
     ]
    },
    {
     "name": "stderr",
     "output_type": "stream",
     "text": [
      "Epoch 48/50: 100%|██████████| 40/40 [02:23<00:00,  3.58s/it, acc=0.989, f1=0.989, loss=0.0622]\n"
     ]
    },
    {
     "name": "stdout",
     "output_type": "stream",
     "text": [
      "Epoch [48/50] - Loss: 0.0660, Acc: 0.9875, F1: 0.9874\n"
     ]
    },
    {
     "name": "stderr",
     "output_type": "stream",
     "text": [
      "Epoch 49/50: 100%|██████████| 40/40 [02:22<00:00,  3.56s/it, acc=0.987, f1=0.987, loss=0.067] \n"
     ]
    },
    {
     "name": "stdout",
     "output_type": "stream",
     "text": [
      "Epoch [49/50] - Loss: 0.0648, Acc: 0.9877, F1: 0.9876\n"
     ]
    },
    {
     "name": "stderr",
     "output_type": "stream",
     "text": [
      "Epoch 50/50: 100%|██████████| 40/40 [02:22<00:00,  3.55s/it, acc=0.973, f1=0.972, loss=0.111] "
     ]
    },
    {
     "name": "stdout",
     "output_type": "stream",
     "text": [
      "Epoch [50/50] - Loss: 0.1140, Acc: 0.9695, F1: 0.9686\n"
     ]
    },
    {
     "name": "stderr",
     "output_type": "stream",
     "text": [
      "\n"
     ]
    }
   ],
   "source": [
    "import tqdm\n",
    "train_losses = []\n",
    "train_accuracies = []\n",
    "train_f1_scores = []\n",
    "for epoch in range(num_epochs):\n",
    "    epoch_losses = []\n",
    "    epoch_accuracies = []\n",
    "    epoch_f1s = []\n",
    "    progress_bar = tqdm.tqdm(train_loader, desc=f\"Epoch {epoch+1}/{num_epochs}\")  \n",
    "    for inputs, targets in progress_bar:\n",
    "        inputs, targets = inputs.to(torch.int64), targets.to(torch.float32)\n",
    "        outputs = model(inputs).squeeze()\n",
    "        loss = criterion(outputs, targets)\n",
    "        optimizer.zero_grad()\n",
    "        loss.backward()\n",
    "        optimizer.step()\n",
    "        probs = torch.sigmoid(outputs)\n",
    "        preds = (probs >= 0.5).float()\n",
    "        accuracy = (preds == targets).float().mean().item()\n",
    "        f1 = f1_score(targets.cpu().numpy(), preds.cpu().numpy(), zero_division=1)\n",
    "        epoch_losses.append(loss.item())\n",
    "        epoch_accuracies.append(accuracy)\n",
    "        epoch_f1s.append(f1)\n",
    "        progress_bar.set_postfix(loss=loss.item(), acc=accuracy, f1=f1)\n",
    "    train_losses.append(sum(epoch_losses) / len(epoch_losses))\n",
    "    train_accuracies.append(sum(epoch_accuracies) / len(epoch_accuracies))\n",
    "    train_f1_scores.append(sum(epoch_f1s) / len(epoch_f1s))\n",
    "    print(f\"Epoch [{epoch+1}/{num_epochs}] - Loss: {train_losses[-1]:.4f}, Acc: {train_accuracies[-1]:.4f}, F1: {train_f1_scores[-1]:.4f}\")\n"
   ]
  },
  {
   "cell_type": "markdown",
   "metadata": {},
   "source": [
    "# **Train graphs**"
   ]
  },
  {
   "cell_type": "code",
   "execution_count": 55,
   "metadata": {},
   "outputs": [
    {
     "data": {
      "image/png": "[encoded data removed]",
      "text/plain": [
       "<Figure size 640x480 with 1 Axes>"
      ]
     },
     "metadata": {},
     "output_type": "display_data"
    }
   ],
   "source": [
    "plt.style.use(\"dark_background\")\n",
    "plt.plot([ i for i in range(1,51)] , train_accuracies , color=\"#00fff4\", linewidth=7)\n",
    "plt.plot([ i for i in range(1,51)] , train_accuracies , color=\"black\", linewidth=3)\n",
    "plt.title(\"LSTM - train_accuracies\")\n",
    "plt.xlabel(\"epoch\")\n",
    "plt.ylabel(\"accuracy\")\n",
    "plt.show()"
   ]
  },
  {
   "cell_type": "code",
   "execution_count": 56,
   "metadata": {},
   "outputs": [
    {
     "data": {
      "image/png": "[encoded data removed]",
      "text/plain": [
       "<Figure size 640x480 with 1 Axes>"
      ]
     },
     "metadata": {},
     "output_type": "display_data"
    }
   ],
   "source": [
    "plt.style.use(\"dark_background\")\n",
    "plt.plot([ i for i in range(1,51)] , train_f1_scores , color=\"#00fff4\", linewidth=7)\n",
    "plt.plot([ i for i in range(1,51)] , train_f1_scores , color=\"black\", linewidth=3)\n",
    "plt.title(\"LSTM - train_F1 Scores\")\n",
    "plt.xlabel(\"epoch\")\n",
    "plt.ylabel(\"score\")\n",
    "plt.show()"
   ]
  },
  {
   "cell_type": "code",
   "execution_count": 57,
   "metadata": {},
   "outputs": [
    {
     "data": {
      "image/png": "[encoded data removed]",
      "text/plain": [
       "<Figure size 640x480 with 1 Axes>"
      ]
     },
     "metadata": {},
     "output_type": "display_data"
    }
   ],
   "source": [
    "plt.style.use(\"dark_background\")\n",
    "plt.plot([ i for i in range(1,51)] , train_losses , color=\"red\", linewidth=7)\n",
    "plt.plot([ i for i in range(1,51)] , train_losses , color=\"black\", linewidth=3)\n",
    "plt.title(\"LSTM - train losses\")\n",
    "plt.xlabel(\"epoch\")\n",
    "plt.ylabel(\"lose\")\n",
    "plt.show()"
   ]
  },
  {
   "cell_type": "markdown",
   "metadata": {},
   "source": [
    "# **Test Data**"
   ]
  },
  {
   "cell_type": "code",
   "execution_count": 52,
   "metadata": {},
   "outputs": [
    {
     "name": "stdout",
     "output_type": "stream",
     "text": [
      "Test Loss: 0.5709, Test Acc: 0.8389, Test F1: 0.8458\n"
     ]
    }
   ],
   "source": [
    "def evaluate(model, dataloader, criterion):\n",
    "    model.eval()\n",
    "    test_loss = 0.0\n",
    "    correct = 0\n",
    "    total = 0\n",
    "    all_preds = []\n",
    "    all_targets = []\n",
    "    with torch.no_grad():\n",
    "        for inputs, targets in dataloader:\n",
    "            inputs, targets = inputs.to(torch.int64), targets.to(torch.float32)\n",
    "            outputs = model(inputs).squeeze()\n",
    "            loss = criterion(outputs, targets)\n",
    "            test_loss += loss.item()\n",
    "            probs = torch.sigmoid(outputs)\n",
    "            preds = (probs >= 0.5).float()\n",
    "            all_preds.extend(preds.cpu().numpy())\n",
    "            all_targets.extend(targets.cpu().numpy())\n",
    "            correct += (preds == targets).sum().item()\n",
    "            total += targets.size(0)\n",
    "    avg_loss = test_loss / len(dataloader)\n",
    "    accuracy = correct / total\n",
    "    f1 = f1_score(all_targets, all_preds, zero_division=1)\n",
    "    print(f\"Test Loss: {avg_loss:.4f}, Test Acc: {accuracy:.4f}, Test F1: {f1:.4f}\")\n",
    "\n",
    "evaluate(model, test_loader, criterion)"
   ]
  },
  {
   "cell_type": "code",
   "execution_count": 53,
   "metadata": {},
   "outputs": [
    {
     "name": "stdout",
     "output_type": "stream",
     "text": [
      "Test Loss: 0.5709, Test Acc: 0.8389, Test F1: 0.8458\n"
     ]
    },
    {
     "data": {
      "image/png": "[encoded data removed]",
      "text/plain": [
       "<Figure size 500x400 with 2 Axes>"
      ]
     },
     "metadata": {},
     "output_type": "display_data"
    }
   ],
   "source": [
    "import seaborn as sns\n",
    "def evaluate(model, dataloader, criterion):\n",
    "    model.eval()\n",
    "    test_loss = 0.0\n",
    "    correct = 0\n",
    "    total = 0\n",
    "    all_preds = []\n",
    "    all_targets = []\n",
    "    with torch.no_grad():\n",
    "        for inputs, targets in dataloader:\n",
    "            inputs, targets = inputs.to(torch.int64), targets.to(torch.float32)\n",
    "            outputs = model(inputs).squeeze()\n",
    "            loss = criterion(outputs, targets)\n",
    "            test_loss += loss.item()\n",
    "            probs = torch.sigmoid(outputs)\n",
    "            preds = (probs >= 0.5).float()\n",
    "            all_preds.extend(preds.cpu().numpy())\n",
    "            all_targets.extend(targets.cpu().numpy())\n",
    "            correct += (preds == targets).sum().item()\n",
    "            total += targets.size(0)\n",
    "    avg_loss = test_loss / len(dataloader)\n",
    "    accuracy = correct / total\n",
    "    f1 = f1_score(all_targets, all_preds, zero_division=1)\n",
    "    print(f\"Test Loss: {avg_loss:.4f}, Test Acc: {accuracy:.4f}, Test F1: {f1:.4f}\")\n",
    "    return avg_loss, accuracy, f1, np.array(all_targets), np.array(all_preds)\n",
    "test_loss, test_acc, test_f1, y_true, y_pred = evaluate(model, test_loader, criterion)\n",
    "cm = confusion_matrix(y_true, y_pred)\n",
    "plt.figure(figsize=(5, 4))\n",
    "sns.heatmap(cm, annot=True, fmt=\"d\", cmap=\"Blues\", xticklabels=[\"Negative\", \"Positive\"], yticklabels=[\"Negative\", \"Positive\"])\n",
    "plt.xlabel(\"Predicted Label\")\n",
    "plt.ylabel(\"True Label\")\n",
    "plt.title(\"Confusion Matrix\")\n",
    "plt.show()"
   ]
  },
  {
   "cell_type": "code",
   "execution_count": 54,
   "metadata": {},
   "outputs": [],
   "source": [
    "torch.save(model.state_dict(), \"model_weights_LSTM.pth\")"
   ]
  }
 ],
 "metadata": {
  "kernelspec": {
   "display_name": "dlib_venv",
   "language": "python",
   "name": "python3"
  },
  "language_info": {
   "codemirror_mode": {
    "name": "ipython",
    "version": 3
   },
   "file_extension": ".py",
   "mimetype": "text/x-python",
   "name": "python",
   "nbconvert_exporter": "python",
   "pygments_lexer": "ipython3",
   "version": "3.12.9"
  }
 },
 "nbformat": 4,
 "nbformat_minor": 2
}
