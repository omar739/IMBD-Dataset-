{
 "cells": [
  {
   "cell_type": "code",
   "execution_count": 1,
   "metadata": {},
   "outputs": [],
   "source": [
    "from nltk import word_tokenize , sent_tokenize , WordNetLemmatizer\n",
    "from nltk.corpus import stopwords\n",
    "import numpy as np\n",
    "import string\n",
    "import os\n",
    "import pandas as pd\n",
    "import matplotlib.pyplot as plt"
   ]
  },
  {
   "cell_type": "code",
   "execution_count": 2,
   "metadata": {},
   "outputs": [
    {
     "name": "stdout",
     "output_type": "stream",
     "text": [
      "['BJT.txt', 'IMDB Dataset.csv', 'Mosfet.txt', 'Solid state devices.txt', 'Transistor as amplifier.txt']\n"
     ]
    }
   ],
   "source": [
    "os.chdir(\"D:/NLP Text data\")\n",
    "print(os.listdir())"
   ]
  },
  {
   "cell_type": "code",
   "execution_count": 3,
   "metadata": {},
   "outputs": [
    {
     "name": "stdout",
     "output_type": "stream",
     "text": [
      "                                                  review sentiment\n",
      "0      One of the other reviewers has mentioned that ...  positive\n",
      "1      A wonderful little production. <br /><br />The...  positive\n",
      "2      I thought this was a wonderful way to spend ti...  positive\n",
      "3      Basically there's a family where a little boy ...  negative\n",
      "4      Petter Mattei's \"Love in the Time of Money\" is...  positive\n",
      "...                                                  ...       ...\n",
      "49995  I thought this movie did a down right good job...  positive\n",
      "49996  Bad plot, bad dialogue, bad acting, idiotic di...  negative\n",
      "49997  I am a Catholic taught in parochial elementary...  negative\n",
      "49998  I'm going to have to disagree with the previou...  negative\n",
      "49999  No one expects the Star Trek movies to be high...  negative\n",
      "\n",
      "[50000 rows x 2 columns]\n"
     ]
    }
   ],
   "source": [
    "data = pd.read_csv(\"IMDB Dataset.csv\")\n",
    "print(data)"
   ]
  },
  {
   "cell_type": "code",
   "execution_count": 4,
   "metadata": {},
   "outputs": [],
   "source": [
    "def preprocessing(text) :\n",
    "    punc = set(string.punctuation)\n",
    "    stop_words = set(stopwords.words(\"english\"))\n",
    "    lemmatizer = WordNetLemmatizer()\n",
    "    big_tokens = sent_tokenize(str(text))\n",
    "    preprocessed = []\n",
    "    for i in big_tokens :\n",
    "        small_tokens = word_tokenize(i)\n",
    "        filterd = [ lemmatizer.lemmatize(i.lower()) for i in small_tokens if ( i not in stop_words) and ( i not in punc) and (i.isdigit() == 0)]\n",
    "        preprocessed.append(\" \".join(filterd))\n",
    "    return \" \".join(preprocessed)\n",
    "data[\"review_processed\"] = data['review'].apply(preprocessing)"
   ]
  },
  {
   "cell_type": "code",
   "execution_count": 5,
   "metadata": {},
   "outputs": [
    {
     "name": "stdout",
     "output_type": "stream",
     "text": [
      "                                                  review sentiment  \\\n",
      "0      One of the other reviewers has mentioned that ...  positive   \n",
      "1      A wonderful little production. <br /><br />The...  positive   \n",
      "2      I thought this was a wonderful way to spend ti...  positive   \n",
      "3      Basically there's a family where a little boy ...  negative   \n",
      "4      Petter Mattei's \"Love in the Time of Money\" is...  positive   \n",
      "...                                                  ...       ...   \n",
      "49995  I thought this movie did a down right good job...  positive   \n",
      "49996  Bad plot, bad dialogue, bad acting, idiotic di...  negative   \n",
      "49997  I am a Catholic taught in parochial elementary...  negative   \n",
      "49998  I'm going to have to disagree with the previou...  negative   \n",
      "49999  No one expects the Star Trek movies to be high...  negative   \n",
      "\n",
      "                                        review_processed  \n",
      "0      one reviewer mentioned watching oz episode 'll...  \n",
      "1      a wonderful little production br br the filmin...  \n",
      "2      i thought wonderful way spend time hot summer ...  \n",
      "3      basically 's family little boy jake think 's z...  \n",
      "4      petter mattei 's `` love time money '' visuall...  \n",
      "...                                                  ...  \n",
      "49995  i thought movie right good job it n't creative...  \n",
      "49996  bad plot bad dialogue bad acting idiotic direc...  \n",
      "49997  i catholic taught parochial elementary school ...  \n",
      "49998  i 'm going disagree previous comment side malt...  \n",
      "49999  no one expects star trek movie high art fan ex...  \n",
      "\n",
      "[50000 rows x 3 columns]\n"
     ]
    }
   ],
   "source": [
    "print(data)"
   ]
  },
  {
   "cell_type": "code",
   "execution_count": 6,
   "metadata": {},
   "outputs": [
    {
     "name": "stdout",
     "output_type": "stream",
     "text": [
      "positive_value = 25000\n",
      "negative_value = 25000\n"
     ]
    }
   ],
   "source": [
    "def countvalue(pandas_Series , value) :\n",
    "    series = np.array(pandas_Series)\n",
    "    return np.count_nonzero(series == value)\n",
    "count_positive = countvalue(data[\"sentiment\"],\"positive\")\n",
    "count_negative = countvalue(data[\"sentiment\"],\"negative\")\n",
    "print(f\"positive_value = {count_positive}\")\n",
    "print(f\"negative_value = { count_negative}\")"
   ]
  },
  {
   "cell_type": "code",
   "execution_count": 7,
   "metadata": {},
   "outputs": [
    {
     "data": {
      "image/png": "[encoded data removed]",
      "text/plain": [
       "<Figure size 640x480 with 1 Axes>"
      ]
     },
     "metadata": {},
     "output_type": "display_data"
    }
   ],
   "source": [
    "plt.style.use(\"dark_background\")\n",
    "plt.bar([\"positive\",\"negative\"],[count_positive,count_negative],\n",
    "        color=[\"skyblue\",\"#513ebe\"],edgecolor=\"black\",linewidth=10)\n",
    "plt.show()"
   ]
  },
  {
   "cell_type": "code",
   "execution_count": 8,
   "metadata": {},
   "outputs": [],
   "source": [
    "def countwords(text) :\n",
    "    tokenss = word_tokenize(text)\n",
    "    return len(tokenss)\n",
    "data[\"count_of_words_after\"] = data[\"review_processed\"].apply(countwords)"
   ]
  },
  {
   "cell_type": "code",
   "execution_count": 9,
   "metadata": {},
   "outputs": [
    {
     "name": "stdout",
     "output_type": "stream",
     "text": [
      "                                                  review sentiment  \\\n",
      "0      One of the other reviewers has mentioned that ...  positive   \n",
      "1      A wonderful little production. <br /><br />The...  positive   \n",
      "2      I thought this was a wonderful way to spend ti...  positive   \n",
      "3      Basically there's a family where a little boy ...  negative   \n",
      "4      Petter Mattei's \"Love in the Time of Money\" is...  positive   \n",
      "...                                                  ...       ...   \n",
      "49995  I thought this movie did a down right good job...  positive   \n",
      "49996  Bad plot, bad dialogue, bad acting, idiotic di...  negative   \n",
      "49997  I am a Catholic taught in parochial elementary...  negative   \n",
      "49998  I'm going to have to disagree with the previou...  negative   \n",
      "49999  No one expects the Star Trek movies to be high...  negative   \n",
      "\n",
      "                                        review_processed  count_of_words_after  \n",
      "0      one reviewer mentioned watching oz episode 'll...                   198  \n",
      "1      a wonderful little production br br the filmin...                   101  \n",
      "2      i thought wonderful way spend time hot summer ...                   108  \n",
      "3      basically 's family little boy jake think 's z...                    82  \n",
      "4      petter mattei 's `` love time money '' visuall...                   149  \n",
      "...                                                  ...                   ...  \n",
      "49995  i thought movie right good job it n't creative...                    99  \n",
      "49996  bad plot bad dialogue bad acting idiotic direc...                    68  \n",
      "49997  i catholic taught parochial elementary school ...                   141  \n",
      "49998  i 'm going disagree previous comment side malt...                   123  \n",
      "49999  no one expects star trek movie high art fan ex...                    74  \n",
      "\n",
      "[50000 rows x 4 columns]\n"
     ]
    }
   ],
   "source": [
    "print(data)"
   ]
  },
  {
   "cell_type": "code",
   "execution_count": 16,
   "metadata": {},
   "outputs": [
    {
     "data": {
      "image/png": "[encoded data removed]",
      "text/plain": [
       "<Figure size 640x480 with 1 Axes>"
      ]
     },
     "metadata": {},
     "output_type": "display_data"
    }
   ],
   "source": [
    "counts = np.array(data.iloc[:,-1])\n",
    "mx , mn , me = np.max(counts) , np.min(counts) , int(np.mean(counts))\n",
    "plt.bar([\"min\",\"mean\",\"max\"],[mn,me,mx],color=[\"yellow\",\"green\",\"red\"],edgecolor=\"black\",linewidth=10)\n",
    "plt.title(f\"min={mn} , max={mx} , mean={me}\")\n",
    "plt.show()"
   ]
  },
  {
   "cell_type": "code",
   "execution_count": 31,
   "metadata": {},
   "outputs": [
    {
     "data": {
      "image/png": "[encoded data removed]",
      "text/plain": [
       "<Figure size 640x480 with 1 Axes>"
      ]
     },
     "metadata": {},
     "output_type": "display_data"
    }
   ],
   "source": [
    "uniq = list(np.unique(counts))\n",
    "dic = dict()\n",
    "for i in uniq :\n",
    "    dic.update({i.item() : np.count_nonzero(counts == i)})\n",
    "plt.bar(list(dic.keys()) , list(dic.values()) , color=\"#00fff4\")\n",
    "plt.show()"
   ]
  }
 ],
 "metadata": {
  "kernelspec": {
   "display_name": "dlib_venv",
   "language": "python",
   "name": "python3"
  },
  "language_info": {
   "codemirror_mode": {
    "name": "ipython",
    "version": 3
   },
   "file_extension": ".py",
   "mimetype": "text/x-python",
   "name": "python",
   "nbconvert_exporter": "python",
   "pygments_lexer": "ipython3",
   "version": "3.12.9"
  }
 },
 "nbformat": 4,
 "nbformat_minor": 2
}
